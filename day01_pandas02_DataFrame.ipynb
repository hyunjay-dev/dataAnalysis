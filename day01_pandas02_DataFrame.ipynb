{
  "nbformat": 4,
  "nbformat_minor": 0,
  "metadata": {
    "colab": {
      "name": "day01_pandas02_DataFrame.ipynb",
      "provenance": [],
      "collapsed_sections": [],
      "toc_visible": true,
      "mount_file_id": "1Lbnpii05G3USt9qIZyUhftomzyTLZbVu",
      "authorship_tag": "ABX9TyOulY5PoUDx9PsV6x437tM2"
    },
    "kernelspec": {
      "name": "python3",
      "display_name": "Python 3"
    }
  },
  "cells": [
    {
      "cell_type": "markdown",
      "metadata": {
        "id": "_ocJaKN8rqc9"
      },
      "source": [
        "# DataFrame"
      ]
    },
    {
      "cell_type": "markdown",
      "metadata": {
        "id": "AJ_bjfp3r0da"
      },
      "source": [
        "## DataFrame 생성\n"
      ]
    },
    {
      "cell_type": "markdown",
      "metadata": {
        "id": "DYmMIcumr6vi"
      },
      "source": [
        "DataFrame은 다양한 방법으로 생성된다.\n",
        "\n",
        "1. 리스트의 값을 딕셔너리로 사용\n",
        "2. Numpy 배열 이용\n",
        "3. read_csv(), read(excel() 등 이러한 함수등을 이용해 생성 할 수 있음"
      ]
    },
    {
      "cell_type": "code",
      "metadata": {
        "id": "AbsjxSSTsLmB"
      },
      "source": [
        "import numpy as np\n",
        "import pandas as pd\n",
        "from pandas import Series, DataFrame"
      ],
      "execution_count": null,
      "outputs": []
    },
    {
      "cell_type": "markdown",
      "metadata": {
        "id": "FmUpyQncsbDM"
      },
      "source": [
        "### 1. 리스트의 값을 딕셔너리로 사용\n",
        "(가장 많이 사용되는 꼴)\n",
        "\n",
        "- key = 컬럼\n",
        "\n",
        "- index는 자동적으로 정수로 잡힘 왜? value 각각은 시리즈 이기 때문에 "
      ]
    },
    {
      "cell_type": "code",
      "metadata": {
        "id": "m0Lc0wj1sTGf",
        "outputId": "b15b91bf-ff8f-43da-c4ef-5b4f06316eb8",
        "colab": {
          "base_uri": "https://localhost:8080/"
        }
      },
      "source": [
        "list_dic = {\n",
        "            'state': ['Ohio','Ohio','Ohio','Nevada','Nevada','Nevada'],\n",
        "            'year': [2000, 2001, 2002, 2001, 2002, 2003],\n",
        "            'pop': [1.5, 1.7, 3.6, 2.4, 2.9, 3.2]\n",
        "}\n",
        "list_dic\n",
        "\n",
        "listDf = DataFrame(list_dic)\n",
        "\n",
        "print(listDf)\n",
        "\n",
        "print(type(listDf.state)) # Series로 나옴\n",
        "print(type(listDf.year))\n",
        "# print(type(listDf.pop)) # 내장함수랑 충돌되기때문에, 오류가 발생함\n",
        "# 키의 이름을 바꾸던지(번거로움) # 아래처럼 표현해야함\n",
        "print(type(listDf['pop']))"
      ],
      "execution_count": null,
      "outputs": [
        {
          "output_type": "stream",
          "text": [
            "    state  year  pop\n",
            "0    Ohio  2000  1.5\n",
            "1    Ohio  2001  1.7\n",
            "2    Ohio  2002  3.6\n",
            "3  Nevada  2001  2.4\n",
            "4  Nevada  2002  2.9\n",
            "5  Nevada  2003  3.2\n",
            "<class 'pandas.core.series.Series'>\n",
            "<class 'pandas.core.series.Series'>\n",
            "<class 'pandas.core.series.Series'>\n"
          ],
          "name": "stdout"
        }
      ]
    },
    {
      "cell_type": "code",
      "metadata": {
        "id": "G2UCB8N1tGO-",
        "outputId": "6dc9b92c-cbc2-4a27-e174-e8703eb55d88",
        "colab": {
          "base_uri": "https://localhost:8080/"
        }
      },
      "source": [
        "# 다시 1번 만들어보기\n",
        "data1 ={\n",
        "    'name':['James', 'Peter', 'Robert', 'Trump'],\n",
        "    'address':['LA', 'Texas', 'LA', 'NewYork'],\n",
        "    'age':[33,44,55,66]\n",
        "}\n",
        "df1 = DataFrame(data1)\n",
        "df1"
      ],
      "execution_count": null,
      "outputs": [
        {
          "output_type": "stream",
          "text": [
            "     name  address  age\n",
            "0   James       LA   33\n",
            "1   Peter    Texas   44\n",
            "2  Robert       LA   55\n",
            "3   Trump  NewYork   66\n"
          ],
          "name": "stdout"
        }
      ]
    },
    {
      "cell_type": "markdown",
      "metadata": {
        "id": "PnalMbaMzOlV"
      },
      "source": [
        "### 2. Numpy 배열 이용\n",
        "\n",
        "1차원일때는 reshape으로 2차로 가공해 사용하자"
      ]
    },
    {
      "cell_type": "code",
      "metadata": {
        "id": "pIRexa4PzGUe",
        "outputId": "36965af0-f66a-4e0e-8f53-5b35ff30460a",
        "colab": {
          "base_uri": "https://localhost:8080/",
          "height": 173
        }
      },
      "source": [
        "df2 = DataFrame(np.random.randint(10,100,16).reshape(4,4),\n",
        "                index=list('abcd'),\n",
        "                columns=list('abcd'))\n",
        "df2\n",
        "\n",
        "# 컬럼명 변경\n",
        "df2.columns =['one', 'two', 'three', 'four']\n",
        "df2"
      ],
      "execution_count": null,
      "outputs": [
        {
          "output_type": "execute_result",
          "data": {
            "text/html": [
              "<div>\n",
              "<style scoped>\n",
              "    .dataframe tbody tr th:only-of-type {\n",
              "        vertical-align: middle;\n",
              "    }\n",
              "\n",
              "    .dataframe tbody tr th {\n",
              "        vertical-align: top;\n",
              "    }\n",
              "\n",
              "    .dataframe thead th {\n",
              "        text-align: right;\n",
              "    }\n",
              "</style>\n",
              "<table border=\"1\" class=\"dataframe\">\n",
              "  <thead>\n",
              "    <tr style=\"text-align: right;\">\n",
              "      <th></th>\n",
              "      <th>one</th>\n",
              "      <th>two</th>\n",
              "      <th>three</th>\n",
              "      <th>four</th>\n",
              "    </tr>\n",
              "  </thead>\n",
              "  <tbody>\n",
              "    <tr>\n",
              "      <th>a</th>\n",
              "      <td>18</td>\n",
              "      <td>36</td>\n",
              "      <td>28</td>\n",
              "      <td>31</td>\n",
              "    </tr>\n",
              "    <tr>\n",
              "      <th>b</th>\n",
              "      <td>85</td>\n",
              "      <td>11</td>\n",
              "      <td>32</td>\n",
              "      <td>19</td>\n",
              "    </tr>\n",
              "    <tr>\n",
              "      <th>c</th>\n",
              "      <td>84</td>\n",
              "      <td>18</td>\n",
              "      <td>10</td>\n",
              "      <td>59</td>\n",
              "    </tr>\n",
              "    <tr>\n",
              "      <th>d</th>\n",
              "      <td>28</td>\n",
              "      <td>98</td>\n",
              "      <td>39</td>\n",
              "      <td>94</td>\n",
              "    </tr>\n",
              "  </tbody>\n",
              "</table>\n",
              "</div>"
            ],
            "text/plain": [
              "   one  two  three  four\n",
              "a   18   36     28    31\n",
              "b   85   11     32    19\n",
              "c   84   18     10    59\n",
              "d   28   98     39    94"
            ]
          },
          "metadata": {
            "tags": []
          },
          "execution_count": 20
        }
      ]
    },
    {
      "cell_type": "markdown",
      "metadata": {
        "id": "it2DfFzf0DLD"
      },
      "source": [
        "### 3. 파일을 읽어들여서 DataFrame 생성\n",
        "\n",
        "read_csv(), read(excel() 등 이러한 함수등을 이용"
      ]
    },
    {
      "cell_type": "markdown",
      "metadata": {
        "id": "4uXynoP51vyl"
      },
      "source": [
        "* CSV = Comma Seperate Values (콤마를 기준으로 분류하는 확장자)"
      ]
    },
    {
      "cell_type": "markdown",
      "metadata": {
        "id": "Ofa9dEgx1MyV"
      },
      "source": [
        "> (tip) 데이터 분석의 가장 베이스는 읽어들이려는 데이터가 무엇인지를 알아야 하는 것이다.\n",
        ">\n",
        "> 데이터를 구글링해보면 어떤 데이터인지 나오는 경우가 있다.\n",
        ">\n",
        "> 반드시 찾아보는 습관을 기르도록 하자"
      ]
    },
    {
      "cell_type": "code",
      "metadata": {
        "id": "aAQltD5wzXHQ",
        "outputId": "d1ac13fc-b4a6-4c38-84e3-201d248bd02f",
        "colab": {
          "base_uri": "https://localhost:8080/",
          "height": 419
        }
      },
      "source": [
        "df3 = pd.read_csv(\"/content/drive/My Drive/Colab/nhj/data_analysis/down/tips.csv\")\n",
        "# seabon tips dataset\n",
        "df3\n",
        "# 몇 줄인지? 컬럼은 몇개인지? 누락데이터가 있는지? 확인하자\n",
        "# 가장 비중 높은 컬럼이 앞쪽으로 오지 않을지?\n",
        "# 컬럼을 보면 - 성별을 언급하고, 흡연과 팁, 주말(그 중에서도 금토일간)과 팁의 상관요소를 볼 수 있기때문에 반드시 짚고 넘어가야 한다."
      ],
      "execution_count": null,
      "outputs": [
        {
          "output_type": "execute_result",
          "data": {
            "text/html": [
              "<div>\n",
              "<style scoped>\n",
              "    .dataframe tbody tr th:only-of-type {\n",
              "        vertical-align: middle;\n",
              "    }\n",
              "\n",
              "    .dataframe tbody tr th {\n",
              "        vertical-align: top;\n",
              "    }\n",
              "\n",
              "    .dataframe thead th {\n",
              "        text-align: right;\n",
              "    }\n",
              "</style>\n",
              "<table border=\"1\" class=\"dataframe\">\n",
              "  <thead>\n",
              "    <tr style=\"text-align: right;\">\n",
              "      <th></th>\n",
              "      <th>total_bill</th>\n",
              "      <th>tip</th>\n",
              "      <th>sex</th>\n",
              "      <th>smoker</th>\n",
              "      <th>day</th>\n",
              "      <th>time</th>\n",
              "      <th>size</th>\n",
              "    </tr>\n",
              "  </thead>\n",
              "  <tbody>\n",
              "    <tr>\n",
              "      <th>0</th>\n",
              "      <td>16.99</td>\n",
              "      <td>1.01</td>\n",
              "      <td>Female</td>\n",
              "      <td>No</td>\n",
              "      <td>Sun</td>\n",
              "      <td>Dinner</td>\n",
              "      <td>2.0</td>\n",
              "    </tr>\n",
              "    <tr>\n",
              "      <th>1</th>\n",
              "      <td>10.34</td>\n",
              "      <td>1.66</td>\n",
              "      <td>Male</td>\n",
              "      <td>No</td>\n",
              "      <td>Sun</td>\n",
              "      <td>Dinner</td>\n",
              "      <td>3.0</td>\n",
              "    </tr>\n",
              "    <tr>\n",
              "      <th>2</th>\n",
              "      <td>21.01</td>\n",
              "      <td>3.50</td>\n",
              "      <td>Male</td>\n",
              "      <td>No</td>\n",
              "      <td>Sun</td>\n",
              "      <td>Dinner</td>\n",
              "      <td>3.0</td>\n",
              "    </tr>\n",
              "    <tr>\n",
              "      <th>3</th>\n",
              "      <td>23.68</td>\n",
              "      <td>3.31</td>\n",
              "      <td>Male</td>\n",
              "      <td>No</td>\n",
              "      <td>Sun</td>\n",
              "      <td>Dinner</td>\n",
              "      <td>2.0</td>\n",
              "    </tr>\n",
              "    <tr>\n",
              "      <th>4</th>\n",
              "      <td>24.59</td>\n",
              "      <td>3.61</td>\n",
              "      <td>Female</td>\n",
              "      <td>No</td>\n",
              "      <td>Sun</td>\n",
              "      <td>Dinner</td>\n",
              "      <td>4.0</td>\n",
              "    </tr>\n",
              "    <tr>\n",
              "      <th>...</th>\n",
              "      <td>...</td>\n",
              "      <td>...</td>\n",
              "      <td>...</td>\n",
              "      <td>...</td>\n",
              "      <td>...</td>\n",
              "      <td>...</td>\n",
              "      <td>...</td>\n",
              "    </tr>\n",
              "    <tr>\n",
              "      <th>240</th>\n",
              "      <td>27.18</td>\n",
              "      <td>2.00</td>\n",
              "      <td>Female</td>\n",
              "      <td>Yes</td>\n",
              "      <td>Sat</td>\n",
              "      <td>Dinner</td>\n",
              "      <td>2.0</td>\n",
              "    </tr>\n",
              "    <tr>\n",
              "      <th>241</th>\n",
              "      <td>22.67</td>\n",
              "      <td>2.00</td>\n",
              "      <td>Male</td>\n",
              "      <td>Yes</td>\n",
              "      <td>Sat</td>\n",
              "      <td>Dinner</td>\n",
              "      <td>2.0</td>\n",
              "    </tr>\n",
              "    <tr>\n",
              "      <th>242</th>\n",
              "      <td>17.82</td>\n",
              "      <td>1.75</td>\n",
              "      <td>Male</td>\n",
              "      <td>No</td>\n",
              "      <td>Sat</td>\n",
              "      <td>Dinner</td>\n",
              "      <td>2.0</td>\n",
              "    </tr>\n",
              "    <tr>\n",
              "      <th>243</th>\n",
              "      <td>18.78</td>\n",
              "      <td>3.00</td>\n",
              "      <td>Female</td>\n",
              "      <td>No</td>\n",
              "      <td>Thur</td>\n",
              "      <td>Dinner</td>\n",
              "      <td>2.0</td>\n",
              "    </tr>\n",
              "    <tr>\n",
              "      <th>244</th>\n",
              "      <td>25.34</td>\n",
              "      <td>NaN</td>\n",
              "      <td>NaN</td>\n",
              "      <td>NaN</td>\n",
              "      <td>NaN</td>\n",
              "      <td>NaN</td>\n",
              "      <td>NaN</td>\n",
              "    </tr>\n",
              "  </tbody>\n",
              "</table>\n",
              "<p>245 rows × 7 columns</p>\n",
              "</div>"
            ],
            "text/plain": [
              "     total_bill   tip     sex smoker   day    time  size\n",
              "0         16.99  1.01  Female     No   Sun  Dinner   2.0\n",
              "1         10.34  1.66    Male     No   Sun  Dinner   3.0\n",
              "2         21.01  3.50    Male     No   Sun  Dinner   3.0\n",
              "3         23.68  3.31    Male     No   Sun  Dinner   2.0\n",
              "4         24.59  3.61  Female     No   Sun  Dinner   4.0\n",
              "..          ...   ...     ...    ...   ...     ...   ...\n",
              "240       27.18  2.00  Female    Yes   Sat  Dinner   2.0\n",
              "241       22.67  2.00    Male    Yes   Sat  Dinner   2.0\n",
              "242       17.82  1.75    Male     No   Sat  Dinner   2.0\n",
              "243       18.78  3.00  Female     No  Thur  Dinner   2.0\n",
              "244       25.34   NaN     NaN    NaN   NaN     NaN   NaN\n",
              "\n",
              "[245 rows x 7 columns]"
            ]
          },
          "metadata": {
            "tags": []
          },
          "execution_count": 22
        }
      ]
    },
    {
      "cell_type": "markdown",
      "metadata": {
        "id": "o_coxE--4Mi6"
      },
      "source": [
        "## DataFrame 구조"
      ]
    },
    {
      "cell_type": "code",
      "metadata": {
        "id": "AeOggVQV4P6y",
        "outputId": "e61fe588-152e-4339-b197-aa9554c8d205",
        "colab": {
          "base_uri": "https://localhost:8080/"
        }
      },
      "source": [
        "df1\n",
        "print(df1.index)\n",
        "print('*'*60)\n",
        "print(df1.columns)\n",
        "print('*'*60)\n",
        "print(df1.values) # 2차원, 매트릭스 구조로 나오는 것을 확인\n",
        "print('*'*60)\n",
        "print(df1.dtypes) # series, hetero~\n",
        "print('*'*60)\n",
        "print(df1.T) # TRANSPOSE :: 행과 열을 바꾸는 것\n",
        "print('*'*60)\n",
        "print(df1.info())"
      ],
      "execution_count": null,
      "outputs": [
        {
          "output_type": "stream",
          "text": [
            "RangeIndex(start=0, stop=4, step=1)\n",
            "************************************************************\n",
            "Index(['name', 'address', 'age'], dtype='object')\n",
            "************************************************************\n",
            "[['James' 'LA' 33]\n",
            " ['Peter' 'Texas' 44]\n",
            " ['Robert' 'LA' 55]\n",
            " ['Trump' 'NewYork' 66]]\n",
            "************************************************************\n",
            "name       object\n",
            "address    object\n",
            "age         int64\n",
            "dtype: object\n",
            "************************************************************\n",
            "             0      1       2        3\n",
            "name     James  Peter  Robert    Trump\n",
            "address     LA  Texas      LA  NewYork\n",
            "age         33     44      55       66\n",
            "************************************************************\n",
            "<class 'pandas.core.frame.DataFrame'>\n",
            "RangeIndex: 4 entries, 0 to 3\n",
            "Data columns (total 3 columns):\n",
            " #   Column   Non-Null Count  Dtype \n",
            "---  ------   --------------  ----- \n",
            " 0   name     4 non-null      object\n",
            " 1   address  4 non-null      object\n",
            " 2   age      4 non-null      int64 \n",
            "dtypes: int64(1), object(2)\n",
            "memory usage: 224.0+ bytes\n",
            "None\n"
          ],
          "name": "stdout"
        }
      ]
    },
    {
      "cell_type": "markdown",
      "metadata": {
        "id": "dCdB4Uqi5BfT"
      },
      "source": [
        "## 가장 많이 사용하는 조회함수"
      ]
    },
    {
      "cell_type": "code",
      "metadata": {
        "id": "tsFVnN904WIr",
        "outputId": "fc40d26b-02f1-4759-e8cd-d90d100bb08b",
        "colab": {
          "base_uri": "https://localhost:8080/"
        }
      },
      "source": [
        "df3\n",
        "print(df3.head(2))\n",
        "print('*'*60)\n",
        "print(df3.tail())\n",
        "print('*'*60)\n",
        "print(df3.shape)"
      ],
      "execution_count": null,
      "outputs": [
        {
          "output_type": "stream",
          "text": [
            "   total_bill   tip     sex smoker  day    time  size\n",
            "0       16.99  1.01  Female     No  Sun  Dinner   2.0\n",
            "1       10.34  1.66    Male     No  Sun  Dinner   3.0\n",
            "************************************************************\n",
            "     total_bill   tip     sex smoker   day    time  size\n",
            "240       27.18  2.00  Female    Yes   Sat  Dinner   2.0\n",
            "241       22.67  2.00    Male    Yes   Sat  Dinner   2.0\n",
            "242       17.82  1.75    Male     No   Sat  Dinner   2.0\n",
            "243       18.78  3.00  Female     No  Thur  Dinner   2.0\n",
            "244       25.34   NaN     NaN    NaN   NaN     NaN   NaN\n",
            "************************************************************\n",
            "(245, 7)\n"
          ],
          "name": "stdout"
        }
      ]
    },
    {
      "cell_type": "markdown",
      "metadata": {
        "id": "x4KCkqh15U6F"
      },
      "source": [
        "## DataFrame 컬럼명 변경 및 추가"
      ]
    },
    {
      "cell_type": "markdown",
      "metadata": {
        "id": "Ouoibdte62rQ"
      },
      "source": [
        "### 1. 컬럼 추가"
      ]
    },
    {
      "cell_type": "code",
      "metadata": {
        "id": "nenmmvzd6RJq",
        "outputId": "6c72ae27-69c5-4cbe-fdfe-338c162cd494",
        "colab": {
          "base_uri": "https://localhost:8080/",
          "height": 173
        }
      },
      "source": [
        "df1\n",
        "df1['phone'] = np.nan # 결측값\n",
        "df1"
      ],
      "execution_count": null,
      "outputs": [
        {
          "output_type": "execute_result",
          "data": {
            "text/html": [
              "<div>\n",
              "<style scoped>\n",
              "    .dataframe tbody tr th:only-of-type {\n",
              "        vertical-align: middle;\n",
              "    }\n",
              "\n",
              "    .dataframe tbody tr th {\n",
              "        vertical-align: top;\n",
              "    }\n",
              "\n",
              "    .dataframe thead th {\n",
              "        text-align: right;\n",
              "    }\n",
              "</style>\n",
              "<table border=\"1\" class=\"dataframe\">\n",
              "  <thead>\n",
              "    <tr style=\"text-align: right;\">\n",
              "      <th></th>\n",
              "      <th>name</th>\n",
              "      <th>addr</th>\n",
              "      <th>age</th>\n",
              "      <th>phone</th>\n",
              "    </tr>\n",
              "  </thead>\n",
              "  <tbody>\n",
              "    <tr>\n",
              "      <th>0</th>\n",
              "      <td>James</td>\n",
              "      <td>LA</td>\n",
              "      <td>33</td>\n",
              "      <td>NaN</td>\n",
              "    </tr>\n",
              "    <tr>\n",
              "      <th>1</th>\n",
              "      <td>Peter</td>\n",
              "      <td>Texas</td>\n",
              "      <td>44</td>\n",
              "      <td>NaN</td>\n",
              "    </tr>\n",
              "    <tr>\n",
              "      <th>2</th>\n",
              "      <td>Robert</td>\n",
              "      <td>LA</td>\n",
              "      <td>55</td>\n",
              "      <td>NaN</td>\n",
              "    </tr>\n",
              "    <tr>\n",
              "      <th>3</th>\n",
              "      <td>Trump</td>\n",
              "      <td>NewYork</td>\n",
              "      <td>66</td>\n",
              "      <td>NaN</td>\n",
              "    </tr>\n",
              "  </tbody>\n",
              "</table>\n",
              "</div>"
            ],
            "text/plain": [
              "     name     addr  age  phone\n",
              "0   James       LA   33    NaN\n",
              "1   Peter    Texas   44    NaN\n",
              "2  Robert       LA   55    NaN\n",
              "3   Trump  NewYork   66    NaN"
            ]
          },
          "metadata": {
            "tags": []
          },
          "execution_count": 42
        }
      ]
    },
    {
      "cell_type": "markdown",
      "metadata": {
        "id": "m0l7BBAl5dZ8"
      },
      "source": [
        "### 2. 컬럼명 변경(컬럼 전체 수정) :: columns\n",
        "\n"
      ]
    },
    {
      "cell_type": "code",
      "metadata": {
        "id": "kNphXbRK5Le_",
        "outputId": "dde26718-e821-4fd4-fd41-1578bc11baa3",
        "colab": {
          "base_uri": "https://localhost:8080/",
          "height": 173
        }
      },
      "source": [
        "df2\n",
        "df2.columns = ['A-class', 'B-class', 'C-class', 'D-class']\n",
        "df2"
      ],
      "execution_count": null,
      "outputs": [
        {
          "output_type": "execute_result",
          "data": {
            "text/html": [
              "<div>\n",
              "<style scoped>\n",
              "    .dataframe tbody tr th:only-of-type {\n",
              "        vertical-align: middle;\n",
              "    }\n",
              "\n",
              "    .dataframe tbody tr th {\n",
              "        vertical-align: top;\n",
              "    }\n",
              "\n",
              "    .dataframe thead th {\n",
              "        text-align: right;\n",
              "    }\n",
              "</style>\n",
              "<table border=\"1\" class=\"dataframe\">\n",
              "  <thead>\n",
              "    <tr style=\"text-align: right;\">\n",
              "      <th></th>\n",
              "      <th>A-class</th>\n",
              "      <th>B-class</th>\n",
              "      <th>C-class</th>\n",
              "      <th>D-class</th>\n",
              "    </tr>\n",
              "  </thead>\n",
              "  <tbody>\n",
              "    <tr>\n",
              "      <th>a</th>\n",
              "      <td>18</td>\n",
              "      <td>36</td>\n",
              "      <td>28</td>\n",
              "      <td>31</td>\n",
              "    </tr>\n",
              "    <tr>\n",
              "      <th>b</th>\n",
              "      <td>85</td>\n",
              "      <td>11</td>\n",
              "      <td>32</td>\n",
              "      <td>19</td>\n",
              "    </tr>\n",
              "    <tr>\n",
              "      <th>c</th>\n",
              "      <td>84</td>\n",
              "      <td>18</td>\n",
              "      <td>10</td>\n",
              "      <td>59</td>\n",
              "    </tr>\n",
              "    <tr>\n",
              "      <th>d</th>\n",
              "      <td>28</td>\n",
              "      <td>98</td>\n",
              "      <td>39</td>\n",
              "      <td>94</td>\n",
              "    </tr>\n",
              "  </tbody>\n",
              "</table>\n",
              "</div>"
            ],
            "text/plain": [
              "   A-class  B-class  C-class  D-class\n",
              "a       18       36       28       31\n",
              "b       85       11       32       19\n",
              "c       84       18       10       59\n",
              "d       28       98       39       94"
            ]
          },
          "metadata": {
            "tags": []
          },
          "execution_count": 31
        }
      ]
    },
    {
      "cell_type": "markdown",
      "metadata": {
        "id": "BDDTwj1v5no4"
      },
      "source": [
        "### 3. 컬럼명 변경(컬럼 부분 수정) :: rename\n",
        "\n",
        "딕셔너리 구조로 \n",
        "\n",
        "변수명.rename(columns = {'origin':'update'}, inplace=True)"
      ]
    },
    {
      "cell_type": "code",
      "metadata": {
        "id": "m_Cf-UAs5qxZ",
        "outputId": "d2d38f53-10b5-4bf7-ee39-4c3b05e83b54",
        "colab": {
          "base_uri": "https://localhost:8080/",
          "height": 173
        }
      },
      "source": [
        "df1\n",
        "df1.rename(columns={'address':'addr'}, inplace=True)\n",
        "df1"
      ],
      "execution_count": null,
      "outputs": [
        {
          "output_type": "execute_result",
          "data": {
            "text/html": [
              "<div>\n",
              "<style scoped>\n",
              "    .dataframe tbody tr th:only-of-type {\n",
              "        vertical-align: middle;\n",
              "    }\n",
              "\n",
              "    .dataframe tbody tr th {\n",
              "        vertical-align: top;\n",
              "    }\n",
              "\n",
              "    .dataframe thead th {\n",
              "        text-align: right;\n",
              "    }\n",
              "</style>\n",
              "<table border=\"1\" class=\"dataframe\">\n",
              "  <thead>\n",
              "    <tr style=\"text-align: right;\">\n",
              "      <th></th>\n",
              "      <th>name</th>\n",
              "      <th>addr</th>\n",
              "      <th>age</th>\n",
              "    </tr>\n",
              "  </thead>\n",
              "  <tbody>\n",
              "    <tr>\n",
              "      <th>0</th>\n",
              "      <td>James</td>\n",
              "      <td>LA</td>\n",
              "      <td>33</td>\n",
              "    </tr>\n",
              "    <tr>\n",
              "      <th>1</th>\n",
              "      <td>Peter</td>\n",
              "      <td>Texas</td>\n",
              "      <td>44</td>\n",
              "    </tr>\n",
              "    <tr>\n",
              "      <th>2</th>\n",
              "      <td>Robert</td>\n",
              "      <td>LA</td>\n",
              "      <td>55</td>\n",
              "    </tr>\n",
              "    <tr>\n",
              "      <th>3</th>\n",
              "      <td>Trump</td>\n",
              "      <td>NewYork</td>\n",
              "      <td>66</td>\n",
              "    </tr>\n",
              "  </tbody>\n",
              "</table>\n",
              "</div>"
            ],
            "text/plain": [
              "     name     addr  age\n",
              "0   James       LA   33\n",
              "1   Peter    Texas   44\n",
              "2  Robert       LA   55\n",
              "3   Trump  NewYork   66"
            ]
          },
          "metadata": {
            "tags": []
          },
          "execution_count": 39
        }
      ]
    },
    {
      "cell_type": "markdown",
      "metadata": {
        "id": "0oR7BaWC7VLv"
      },
      "source": [
        "## DataFrame 컬럼명 조회\n",
        "\n",
        "* 조회 방법\n",
        "\n",
        "  - loc[label] :: 라벨로 검색\n",
        "\n",
        "  - iloc[index] :: 숫자로 검색(인덱스)\n",
        "\n",
        "  - .at[label] :: 라벨로 스칼라 값 검색\n",
        "\n",
        "  - .iat[index] :: 인덱스로 스칼라 값 검색\n",
        "\n",
        "    * 스칼라값 :: one row, one column  을 의미 :: 값 하나를 의미\n"
      ]
    },
    {
      "cell_type": "code",
      "metadata": {
        "id": "G_mUaSrn7YII",
        "outputId": "23f6be2f-23c3-4015-9951-6dda1317590e",
        "colab": {
          "base_uri": "https://localhost:8080/",
          "height": 173
        }
      },
      "source": [
        "df2.columns = ['one', 'two', 'three', 'four']\n",
        "df2"
      ],
      "execution_count": null,
      "outputs": [
        {
          "output_type": "execute_result",
          "data": {
            "text/html": [
              "<div>\n",
              "<style scoped>\n",
              "    .dataframe tbody tr th:only-of-type {\n",
              "        vertical-align: middle;\n",
              "    }\n",
              "\n",
              "    .dataframe tbody tr th {\n",
              "        vertical-align: top;\n",
              "    }\n",
              "\n",
              "    .dataframe thead th {\n",
              "        text-align: right;\n",
              "    }\n",
              "</style>\n",
              "<table border=\"1\" class=\"dataframe\">\n",
              "  <thead>\n",
              "    <tr style=\"text-align: right;\">\n",
              "      <th></th>\n",
              "      <th>one</th>\n",
              "      <th>two</th>\n",
              "      <th>three</th>\n",
              "      <th>four</th>\n",
              "    </tr>\n",
              "  </thead>\n",
              "  <tbody>\n",
              "    <tr>\n",
              "      <th>a</th>\n",
              "      <td>18</td>\n",
              "      <td>36</td>\n",
              "      <td>28</td>\n",
              "      <td>31</td>\n",
              "    </tr>\n",
              "    <tr>\n",
              "      <th>b</th>\n",
              "      <td>85</td>\n",
              "      <td>11</td>\n",
              "      <td>32</td>\n",
              "      <td>19</td>\n",
              "    </tr>\n",
              "    <tr>\n",
              "      <th>c</th>\n",
              "      <td>84</td>\n",
              "      <td>18</td>\n",
              "      <td>10</td>\n",
              "      <td>59</td>\n",
              "    </tr>\n",
              "    <tr>\n",
              "      <th>d</th>\n",
              "      <td>28</td>\n",
              "      <td>98</td>\n",
              "      <td>39</td>\n",
              "      <td>94</td>\n",
              "    </tr>\n",
              "  </tbody>\n",
              "</table>\n",
              "</div>"
            ],
            "text/plain": [
              "   one  two  three  four\n",
              "a   18   36     28    31\n",
              "b   85   11     32    19\n",
              "c   84   18     10    59\n",
              "d   28   98     39    94"
            ]
          },
          "metadata": {
            "tags": []
          },
          "execution_count": 43
        }
      ]
    },
    {
      "cell_type": "code",
      "metadata": {
        "id": "hGP4SeEq7h_0",
        "outputId": "8190f50e-ff2d-439b-e9be-4dc5a27c1ccc",
        "colab": {
          "base_uri": "https://localhost:8080/",
          "height": 111
        }
      },
      "source": [
        "df2[0:2] # 숫자 조회 - 뒷부분 포함 안함\n",
        "df2['a':'b'] # 라벨 조회 - 뒷부분 포함"
      ],
      "execution_count": null,
      "outputs": [
        {
          "output_type": "execute_result",
          "data": {
            "text/html": [
              "<div>\n",
              "<style scoped>\n",
              "    .dataframe tbody tr th:only-of-type {\n",
              "        vertical-align: middle;\n",
              "    }\n",
              "\n",
              "    .dataframe tbody tr th {\n",
              "        vertical-align: top;\n",
              "    }\n",
              "\n",
              "    .dataframe thead th {\n",
              "        text-align: right;\n",
              "    }\n",
              "</style>\n",
              "<table border=\"1\" class=\"dataframe\">\n",
              "  <thead>\n",
              "    <tr style=\"text-align: right;\">\n",
              "      <th></th>\n",
              "      <th>one</th>\n",
              "      <th>two</th>\n",
              "      <th>three</th>\n",
              "      <th>four</th>\n",
              "    </tr>\n",
              "  </thead>\n",
              "  <tbody>\n",
              "    <tr>\n",
              "      <th>a</th>\n",
              "      <td>18</td>\n",
              "      <td>36</td>\n",
              "      <td>28</td>\n",
              "      <td>31</td>\n",
              "    </tr>\n",
              "    <tr>\n",
              "      <th>b</th>\n",
              "      <td>85</td>\n",
              "      <td>11</td>\n",
              "      <td>32</td>\n",
              "      <td>19</td>\n",
              "    </tr>\n",
              "  </tbody>\n",
              "</table>\n",
              "</div>"
            ],
            "text/plain": [
              "   one  two  three  four\n",
              "a   18   36     28    31\n",
              "b   85   11     32    19"
            ]
          },
          "metadata": {
            "tags": []
          },
          "execution_count": 47
        }
      ]
    },
    {
      "cell_type": "code",
      "metadata": {
        "id": "3OYI4hKe7lPR",
        "outputId": "441d8a55-c6bb-4083-9db5-bda4460fcb73",
        "colab": {
          "base_uri": "https://localhost:8080/",
          "height": 375
        }
      },
      "source": [
        "df2['one':'three'] # 나오지 않는데, 컬럼이기 때문에..\n",
        "# 행 부분에는 이런게 없기 때문에 Heading만 출력된다.\n",
        "# 컬럼 조회는 이렇게 하면 안된다."
      ],
      "execution_count": null,
      "outputs": [
        {
          "output_type": "error",
          "ename": "TypeError",
          "evalue": "ignored",
          "traceback": [
            "\u001b[0;31m---------------------------------------------------------------------------\u001b[0m",
            "\u001b[0;31mTypeError\u001b[0m                                 Traceback (most recent call last)",
            "\u001b[0;32m<ipython-input-50-9b5068c1c0ac>\u001b[0m in \u001b[0;36m<module>\u001b[0;34m()\u001b[0m\n\u001b[0;32m----> 1\u001b[0;31m \u001b[0mdf2\u001b[0m\u001b[0;34m[\u001b[0m\u001b[0;34m'a'\u001b[0m\u001b[0;34m,\u001b[0m\u001b[0;34m'one'\u001b[0m\u001b[0;34m:\u001b[0m\u001b[0;34m'three'\u001b[0m\u001b[0;34m]\u001b[0m\u001b[0;34m\u001b[0m\u001b[0;34m\u001b[0m\u001b[0m\n\u001b[0m",
            "\u001b[0;32m/usr/local/lib/python3.6/dist-packages/pandas/core/frame.py\u001b[0m in \u001b[0;36m__getitem__\u001b[0;34m(self, key)\u001b[0m\n\u001b[1;32m   2904\u001b[0m             \u001b[0;32mif\u001b[0m \u001b[0mself\u001b[0m\u001b[0;34m.\u001b[0m\u001b[0mcolumns\u001b[0m\u001b[0;34m.\u001b[0m\u001b[0mnlevels\u001b[0m \u001b[0;34m>\u001b[0m \u001b[0;36m1\u001b[0m\u001b[0;34m:\u001b[0m\u001b[0;34m\u001b[0m\u001b[0;34m\u001b[0m\u001b[0m\n\u001b[1;32m   2905\u001b[0m                 \u001b[0;32mreturn\u001b[0m \u001b[0mself\u001b[0m\u001b[0;34m.\u001b[0m\u001b[0m_getitem_multilevel\u001b[0m\u001b[0;34m(\u001b[0m\u001b[0mkey\u001b[0m\u001b[0;34m)\u001b[0m\u001b[0;34m\u001b[0m\u001b[0;34m\u001b[0m\u001b[0m\n\u001b[0;32m-> 2906\u001b[0;31m             \u001b[0mindexer\u001b[0m \u001b[0;34m=\u001b[0m \u001b[0mself\u001b[0m\u001b[0;34m.\u001b[0m\u001b[0mcolumns\u001b[0m\u001b[0;34m.\u001b[0m\u001b[0mget_loc\u001b[0m\u001b[0;34m(\u001b[0m\u001b[0mkey\u001b[0m\u001b[0;34m)\u001b[0m\u001b[0;34m\u001b[0m\u001b[0;34m\u001b[0m\u001b[0m\n\u001b[0m\u001b[1;32m   2907\u001b[0m             \u001b[0;32mif\u001b[0m \u001b[0mis_integer\u001b[0m\u001b[0;34m(\u001b[0m\u001b[0mindexer\u001b[0m\u001b[0;34m)\u001b[0m\u001b[0;34m:\u001b[0m\u001b[0;34m\u001b[0m\u001b[0;34m\u001b[0m\u001b[0m\n\u001b[1;32m   2908\u001b[0m                 \u001b[0mindexer\u001b[0m \u001b[0;34m=\u001b[0m \u001b[0;34m[\u001b[0m\u001b[0mindexer\u001b[0m\u001b[0;34m]\u001b[0m\u001b[0;34m\u001b[0m\u001b[0;34m\u001b[0m\u001b[0m\n",
            "\u001b[0;32m/usr/local/lib/python3.6/dist-packages/pandas/core/indexes/base.py\u001b[0m in \u001b[0;36mget_loc\u001b[0;34m(self, key, method, tolerance)\u001b[0m\n\u001b[1;32m   2893\u001b[0m             \u001b[0mcasted_key\u001b[0m \u001b[0;34m=\u001b[0m \u001b[0mself\u001b[0m\u001b[0;34m.\u001b[0m\u001b[0m_maybe_cast_indexer\u001b[0m\u001b[0;34m(\u001b[0m\u001b[0mkey\u001b[0m\u001b[0;34m)\u001b[0m\u001b[0;34m\u001b[0m\u001b[0;34m\u001b[0m\u001b[0m\n\u001b[1;32m   2894\u001b[0m             \u001b[0;32mtry\u001b[0m\u001b[0;34m:\u001b[0m\u001b[0;34m\u001b[0m\u001b[0;34m\u001b[0m\u001b[0m\n\u001b[0;32m-> 2895\u001b[0;31m                 \u001b[0;32mreturn\u001b[0m \u001b[0mself\u001b[0m\u001b[0;34m.\u001b[0m\u001b[0m_engine\u001b[0m\u001b[0;34m.\u001b[0m\u001b[0mget_loc\u001b[0m\u001b[0;34m(\u001b[0m\u001b[0mcasted_key\u001b[0m\u001b[0;34m)\u001b[0m\u001b[0;34m\u001b[0m\u001b[0;34m\u001b[0m\u001b[0m\n\u001b[0m\u001b[1;32m   2896\u001b[0m             \u001b[0;32mexcept\u001b[0m \u001b[0mKeyError\u001b[0m \u001b[0;32mas\u001b[0m \u001b[0merr\u001b[0m\u001b[0;34m:\u001b[0m\u001b[0;34m\u001b[0m\u001b[0;34m\u001b[0m\u001b[0m\n\u001b[1;32m   2897\u001b[0m                 \u001b[0;32mraise\u001b[0m \u001b[0mKeyError\u001b[0m\u001b[0;34m(\u001b[0m\u001b[0mkey\u001b[0m\u001b[0;34m)\u001b[0m \u001b[0;32mfrom\u001b[0m \u001b[0merr\u001b[0m\u001b[0;34m\u001b[0m\u001b[0;34m\u001b[0m\u001b[0m\n",
            "\u001b[0;32mpandas/_libs/index.pyx\u001b[0m in \u001b[0;36mpandas._libs.index.IndexEngine.get_loc\u001b[0;34m()\u001b[0m\n",
            "\u001b[0;32mpandas/_libs/index.pyx\u001b[0m in \u001b[0;36mpandas._libs.index.IndexEngine.get_loc\u001b[0;34m()\u001b[0m\n",
            "\u001b[0;31mTypeError\u001b[0m: '('a', slice('one', 'three', None))' is an invalid key"
          ]
        }
      ]
    },
    {
      "cell_type": "code",
      "metadata": {
        "id": "O3y0GYKy74tm",
        "outputId": "98b8e130-7238-448a-b268-044fe167551e",
        "colab": {
          "base_uri": "https://localhost:8080/",
          "height": 173
        }
      },
      "source": [
        "df2[['one','three']] # 2차원으로 검색해야한다."
      ],
      "execution_count": null,
      "outputs": [
        {
          "output_type": "execute_result",
          "data": {
            "text/html": [
              "<div>\n",
              "<style scoped>\n",
              "    .dataframe tbody tr th:only-of-type {\n",
              "        vertical-align: middle;\n",
              "    }\n",
              "\n",
              "    .dataframe tbody tr th {\n",
              "        vertical-align: top;\n",
              "    }\n",
              "\n",
              "    .dataframe thead th {\n",
              "        text-align: right;\n",
              "    }\n",
              "</style>\n",
              "<table border=\"1\" class=\"dataframe\">\n",
              "  <thead>\n",
              "    <tr style=\"text-align: right;\">\n",
              "      <th></th>\n",
              "      <th>one</th>\n",
              "      <th>three</th>\n",
              "    </tr>\n",
              "  </thead>\n",
              "  <tbody>\n",
              "    <tr>\n",
              "      <th>a</th>\n",
              "      <td>18</td>\n",
              "      <td>28</td>\n",
              "    </tr>\n",
              "    <tr>\n",
              "      <th>b</th>\n",
              "      <td>85</td>\n",
              "      <td>32</td>\n",
              "    </tr>\n",
              "    <tr>\n",
              "      <th>c</th>\n",
              "      <td>84</td>\n",
              "      <td>10</td>\n",
              "    </tr>\n",
              "    <tr>\n",
              "      <th>d</th>\n",
              "      <td>28</td>\n",
              "      <td>39</td>\n",
              "    </tr>\n",
              "  </tbody>\n",
              "</table>\n",
              "</div>"
            ],
            "text/plain": [
              "   one  three\n",
              "a   18     28\n",
              "b   85     32\n",
              "c   84     10\n",
              "d   28     39"
            ]
          },
          "metadata": {
            "tags": []
          },
          "execution_count": 60
        }
      ]
    },
    {
      "cell_type": "markdown",
      "metadata": {
        "id": "e1Lrr2gK87qs"
      },
      "source": [
        "#### 응용문제"
      ]
    },
    {
      "cell_type": "markdown",
      "metadata": {
        "id": "aM2g9SAD8_4C"
      },
      "source": [
        "df2 의 two 컬럼에서, 60보다 큰 값만 나오게 해보시오."
      ]
    },
    {
      "cell_type": "code",
      "metadata": {
        "id": "E8JvcGXj8Hwc",
        "outputId": "8b636f67-9228-44f3-b569-9824a2b5d3ce",
        "colab": {
          "base_uri": "https://localhost:8080/"
        }
      },
      "source": [
        "df2\n",
        "df2.iloc[3,3]"
      ],
      "execution_count": null,
      "outputs": [
        {
          "output_type": "execute_result",
          "data": {
            "text/plain": [
              "94"
            ]
          },
          "metadata": {
            "tags": []
          },
          "execution_count": 87
        }
      ]
    },
    {
      "cell_type": "markdown",
      "metadata": {
        "id": "iaO_BEB8-bMV"
      },
      "source": [
        "df1 에서 인덱스 0, 1 값들 중 addr의 값들을 가져오고 싶다."
      ]
    },
    {
      "cell_type": "code",
      "metadata": {
        "id": "Jibdc9zQ_qI-",
        "outputId": "ef7ff86d-58f7-4a74-bfbd-dd21ea3a1ec8",
        "colab": {
          "base_uri": "https://localhost:8080/",
          "height": 173
        }
      },
      "source": [
        "df1"
      ],
      "execution_count": null,
      "outputs": [
        {
          "output_type": "execute_result",
          "data": {
            "text/html": [
              "<div>\n",
              "<style scoped>\n",
              "    .dataframe tbody tr th:only-of-type {\n",
              "        vertical-align: middle;\n",
              "    }\n",
              "\n",
              "    .dataframe tbody tr th {\n",
              "        vertical-align: top;\n",
              "    }\n",
              "\n",
              "    .dataframe thead th {\n",
              "        text-align: right;\n",
              "    }\n",
              "</style>\n",
              "<table border=\"1\" class=\"dataframe\">\n",
              "  <thead>\n",
              "    <tr style=\"text-align: right;\">\n",
              "      <th></th>\n",
              "      <th>name</th>\n",
              "      <th>addr</th>\n",
              "      <th>age</th>\n",
              "      <th>phone</th>\n",
              "    </tr>\n",
              "  </thead>\n",
              "  <tbody>\n",
              "    <tr>\n",
              "      <th>0</th>\n",
              "      <td>James</td>\n",
              "      <td>LA</td>\n",
              "      <td>33</td>\n",
              "      <td>NaN</td>\n",
              "    </tr>\n",
              "    <tr>\n",
              "      <th>1</th>\n",
              "      <td>Peter</td>\n",
              "      <td>Texas</td>\n",
              "      <td>44</td>\n",
              "      <td>NaN</td>\n",
              "    </tr>\n",
              "    <tr>\n",
              "      <th>2</th>\n",
              "      <td>Robert</td>\n",
              "      <td>LA</td>\n",
              "      <td>55</td>\n",
              "      <td>NaN</td>\n",
              "    </tr>\n",
              "    <tr>\n",
              "      <th>3</th>\n",
              "      <td>Trump</td>\n",
              "      <td>NewYork</td>\n",
              "      <td>66</td>\n",
              "      <td>NaN</td>\n",
              "    </tr>\n",
              "  </tbody>\n",
              "</table>\n",
              "</div>"
            ],
            "text/plain": [
              "     name     addr  age  phone\n",
              "0   James       LA   33    NaN\n",
              "1   Peter    Texas   44    NaN\n",
              "2  Robert       LA   55    NaN\n",
              "3   Trump  NewYork   66    NaN"
            ]
          },
          "metadata": {
            "tags": []
          },
          "execution_count": 81
        }
      ]
    },
    {
      "cell_type": "code",
      "metadata": {
        "id": "QWAq9S2K_qyV",
        "outputId": "4323c8d7-4919-4807-af09-6968111e3ebf",
        "colab": {
          "base_uri": "https://localhost:8080/"
        }
      },
      "source": [
        "df1.iloc[0:2,1]"
      ],
      "execution_count": null,
      "outputs": [
        {
          "output_type": "execute_result",
          "data": {
            "text/plain": [
              "0       LA\n",
              "1    Texas\n",
              "Name: addr, dtype: object"
            ]
          },
          "metadata": {
            "tags": []
          },
          "execution_count": 84
        }
      ]
    },
    {
      "cell_type": "markdown",
      "metadata": {
        "id": "NePhLEHFA3EE"
      },
      "source": [
        "df1 의 인덱스 0, 1 번째 모든 데이터를 iloc, loc로 가져오기"
      ]
    },
    {
      "cell_type": "code",
      "metadata": {
        "id": "rUWPa290_vF1",
        "outputId": "782f6c24-000b-40e2-e6f5-fe2c60139c34",
        "colab": {
          "base_uri": "https://localhost:8080/"
        }
      },
      "source": [
        "print(df1.iloc[0:2, 0:3])\n",
        "print('*'*60)\n",
        "print(df1.iloc[:2, :3])\n",
        "print('*'*60)\n",
        "print(df1.iloc[0:2])"
      ],
      "execution_count": null,
      "outputs": [
        {
          "output_type": "stream",
          "text": [
            "    name   addr  age\n",
            "0  James     LA   33\n",
            "1  Peter  Texas   44\n",
            "************************************************************\n",
            "    name   addr  age\n",
            "0  James     LA   33\n",
            "1  Peter  Texas   44\n",
            "************************************************************\n",
            "    name   addr  age  phone\n",
            "0  James     LA   33    NaN\n",
            "1  Peter  Texas   44    NaN\n"
          ],
          "name": "stdout"
        }
      ]
    },
    {
      "cell_type": "markdown",
      "metadata": {
        "id": "bHYuGXuGCVTZ"
      },
      "source": [
        "스칼라 값 가져오기:: .at, .iat"
      ]
    },
    {
      "cell_type": "markdown",
      "metadata": {
        "id": "WfUoinmxBSza"
      },
      "source": [
        "Peter의 주소 가져오기\n",
        "\n",
        "Robert의 나이 55 가져오기"
      ]
    },
    {
      "cell_type": "code",
      "metadata": {
        "id": "wYXQUy6ICqTn",
        "outputId": "2ffb2199-8980-4112-c190-8296cb8e5a65",
        "colab": {
          "base_uri": "https://localhost:8080/",
          "height": 173
        }
      },
      "source": [
        "df1"
      ],
      "execution_count": null,
      "outputs": [
        {
          "output_type": "execute_result",
          "data": {
            "text/html": [
              "<div>\n",
              "<style scoped>\n",
              "    .dataframe tbody tr th:only-of-type {\n",
              "        vertical-align: middle;\n",
              "    }\n",
              "\n",
              "    .dataframe tbody tr th {\n",
              "        vertical-align: top;\n",
              "    }\n",
              "\n",
              "    .dataframe thead th {\n",
              "        text-align: right;\n",
              "    }\n",
              "</style>\n",
              "<table border=\"1\" class=\"dataframe\">\n",
              "  <thead>\n",
              "    <tr style=\"text-align: right;\">\n",
              "      <th></th>\n",
              "      <th>name</th>\n",
              "      <th>addr</th>\n",
              "      <th>age</th>\n",
              "      <th>phone</th>\n",
              "    </tr>\n",
              "  </thead>\n",
              "  <tbody>\n",
              "    <tr>\n",
              "      <th>0</th>\n",
              "      <td>James</td>\n",
              "      <td>LA</td>\n",
              "      <td>33</td>\n",
              "      <td>NaN</td>\n",
              "    </tr>\n",
              "    <tr>\n",
              "      <th>1</th>\n",
              "      <td>Peter</td>\n",
              "      <td>Texas</td>\n",
              "      <td>44</td>\n",
              "      <td>NaN</td>\n",
              "    </tr>\n",
              "    <tr>\n",
              "      <th>2</th>\n",
              "      <td>Robert</td>\n",
              "      <td>LA</td>\n",
              "      <td>55</td>\n",
              "      <td>NaN</td>\n",
              "    </tr>\n",
              "    <tr>\n",
              "      <th>3</th>\n",
              "      <td>Trump</td>\n",
              "      <td>NewYork</td>\n",
              "      <td>66</td>\n",
              "      <td>NaN</td>\n",
              "    </tr>\n",
              "  </tbody>\n",
              "</table>\n",
              "</div>"
            ],
            "text/plain": [
              "     name     addr  age  phone\n",
              "0   James       LA   33    NaN\n",
              "1   Peter    Texas   44    NaN\n",
              "2  Robert       LA   55    NaN\n",
              "3   Trump  NewYork   66    NaN"
            ]
          },
          "metadata": {
            "tags": []
          },
          "execution_count": 106
        }
      ]
    },
    {
      "cell_type": "code",
      "metadata": {
        "id": "qZSOY1p6BYY2",
        "outputId": "ab69d9da-78e4-4873-ba1b-0d1652b913f1",
        "colab": {
          "base_uri": "https://localhost:8080/"
        }
      },
      "source": [
        "print(df1.iat[1,1])\n",
        "print(df1.iat[2,2])"
      ],
      "execution_count": null,
      "outputs": [
        {
          "output_type": "stream",
          "text": [
            "Texas\n",
            "55\n"
          ],
          "name": "stdout"
        }
      ]
    },
    {
      "cell_type": "code",
      "metadata": {
        "id": "IkOQ7_etBe4W",
        "outputId": "b0de5a3d-5cf8-4da2-89bf-ec56bb941db8",
        "colab": {
          "base_uri": "https://localhost:8080/"
        }
      },
      "source": [
        "print(df1.at[1,'addr'])\n",
        "print(df1.at[2,'age'])"
      ],
      "execution_count": null,
      "outputs": [
        {
          "output_type": "stream",
          "text": [
            "Texas\n",
            "55\n"
          ],
          "name": "stdout"
        }
      ]
    },
    {
      "cell_type": "code",
      "metadata": {
        "id": "k6feJGfYBs1F",
        "outputId": "9bb84581-80d6-479a-9298-ffd2e2c7a713",
        "colab": {
          "base_uri": "https://localhost:8080/"
        }
      },
      "source": [
        "\n",
        "print(df1.iloc[1,1])\n",
        "print(df1.iloc[2,2])\n",
        "print('*'*60)\n",
        "print(df1.loc[1,'addr'])\n",
        "print(df1.loc[2,'age'])"
      ],
      "execution_count": null,
      "outputs": [
        {
          "output_type": "stream",
          "text": [
            "Texas\n",
            "55\n",
            "************************************************************\n",
            "Texas\n",
            "55\n"
          ],
          "name": "stdout"
        }
      ]
    },
    {
      "cell_type": "code",
      "metadata": {
        "id": "YOe6CzOTCaou"
      },
      "source": [
        ""
      ],
      "execution_count": null,
      "outputs": []
    }
  ]
}