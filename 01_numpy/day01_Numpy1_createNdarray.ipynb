{
  "nbformat": 4,
  "nbformat_minor": 0,
  "metadata": {
    "colab": {
      "name": "day01_Numpy1_createNdarray.ipynb",
      "provenance": [],
      "collapsed_sections": [],
      "mount_file_id": "1fTehw9hV5vWTtxuKofFiYu6KJ0sGhEI7",
      "authorship_tag": "ABX9TyNKYxj/FnTqr6QQz9P6PIMd"
    },
    "kernelspec": {
      "name": "python3",
      "display_name": "Python 3"
    }
  },
  "cells": [
    {
      "cell_type": "code",
      "metadata": {
        "id": "Pfv6qqvJcpTC",
        "outputId": "c4795549-7508-4cf9-d82c-383de6b92ac7",
        "colab": {
          "base_uri": "https://localhost:8080/"
        }
      },
      "source": [
        "from google.colab import drive\n",
        "drive.mount('/content/drive')"
      ],
      "execution_count": null,
      "outputs": [
        {
          "output_type": "stream",
          "text": [
            "Mounted at /content/drive\n"
          ],
          "name": "stdout"
        }
      ]
    },
    {
      "cell_type": "markdown",
      "metadata": {
        "id": "0jWAw4d30mtM"
      },
      "source": [
        "\n",
        "\n",
        "---\n",
        "\n"
      ]
    },
    {
      "cell_type": "markdown",
      "metadata": {
        "id": "JqyZrAd2p91j"
      },
      "source": [
        "# Numpy 배열 생성하기\n"
      ]
    },
    {
      "cell_type": "markdown",
      "metadata": {
        "id": "9nuRSDZ6xD3U"
      },
      "source": [
        "\n",
        "1) array()사용하기\n",
        "\n",
        "2) random() 사용하기"
      ]
    },
    {
      "cell_type": "code",
      "metadata": {
        "id": "zEyk51mcp1af"
      },
      "source": [
        "import numpy as np"
      ],
      "execution_count": null,
      "outputs": []
    },
    {
      "cell_type": "markdown",
      "metadata": {
        "id": "RUlRK1RxqIl8"
      },
      "source": [
        "중요한 것은 Numpy 배열과 리스트를 비교하고, numpy를 이해 하는 것이 중요하다. (메모리적 측면)\n",
        "\n",
        "numpy와 list의 가장 큰 차이점은 ?!\n",
        "- 리스트는 출력결과 값들이 []안에 각 요소들이 ,(콤마)로 구분된다.\n",
        "\n",
        "\n",
        "- numpy배열은 []안에 값들이 튜플형태로 나옴(콤마 없이)\n",
        "- numpy 배열은 대괄호 안에 값들이 그냥 나열되어져 있다.\n",
        "\n",
        "ndarray 타입 = N 차원의 배열이라는 뜻으로\n",
        "ndarray클래스는 다차원행렬구조를 지원하는 Numpy의 핵심 클래스"
      ]
    },
    {
      "cell_type": "code",
      "metadata": {
        "id": "hku1LPU2qRBf",
        "outputId": "cc479067-7a92-4ff4-d27a-51902cecff1a",
        "colab": {
          "base_uri": "https://localhost:8080/"
        }
      },
      "source": [
        "# 1) array() 함수 이용해서 생성\n",
        "myList=[4,5,6,7] # 리스트\n",
        "print(myList)\n",
        "print(type(myList))\n",
        "myArr = np.array(myList) # 넘파이 배열\n",
        "print(type(myArr))"
      ],
      "execution_count": null,
      "outputs": [
        {
          "output_type": "stream",
          "text": [
            "[4, 5, 6, 7]\n",
            "<class 'list'>\n",
            "<class 'numpy.ndarray'>\n"
          ],
          "name": "stdout"
        }
      ]
    },
    {
      "cell_type": "code",
      "metadata": {
        "id": "zytqnGs8q8wg",
        "outputId": "618549c1-483b-48a3-962d-533107c8a514",
        "colab": {
          "base_uri": "https://localhost:8080/"
        }
      },
      "source": [
        "# 여기까지 리스트와 ndarray의 차이는 없다! \n",
        "mL_sub= myList[1:3]\n",
        "print(mL_sub)\n",
        "\n",
        "mA_sub= myArr[1:3]\n",
        "print(mA_sub)\n",
        "\n",
        "mL_sub[0] = -5\n",
        "print(mL_sub)\n",
        "\n",
        "mA_sub[0] = -5\n",
        "print(mA_sub)"
      ],
      "execution_count": null,
      "outputs": [
        {
          "output_type": "stream",
          "text": [
            "[5, 6]\n",
            "[5 6]\n",
            "[-5, 6]\n",
            "[-5  6]\n"
          ],
          "name": "stdout"
        }
      ]
    },
    {
      "cell_type": "code",
      "metadata": {
        "id": "HSi8ML4RsTpw",
        "outputId": "6143affc-4b5c-4120-879e-5d9e0ff6fe59",
        "colab": {
          "base_uri": "https://localhost:8080/"
        }
      },
      "source": [
        "# 근데 여기서부터 차이가 생긴다!!!\n",
        "print(myList)\n",
        "print(myArr)"
      ],
      "execution_count": null,
      "outputs": [
        {
          "output_type": "stream",
          "text": [
            "[4, 5, 6, 7]\n",
            "[ 4 -5  6  7]\n"
          ],
          "name": "stdout"
        }
      ]
    },
    {
      "cell_type": "markdown",
      "metadata": {
        "id": "33OMKyOisw8N"
      },
      "source": [
        "<정리>\n",
        "\n",
        "\n",
        "List는 원본이 바뀌지 않고 카피해서 새로운 걸 만든다. \n",
        "\n",
        "반면에, Numpy(=ndarray)는 원본 뷰가 함께 바뀐다.\n",
        "\n",
        "리스트, np배열은 메모리 할당 부분에서 차이가 발생한다.\n",
        "\n",
        "정리하자면, np 배열이 더 효율적이다. 즉 대용량의 데이터 할당에 유리하고, 속도적, 성능적 측면에서 더 좋다."
      ]
    },
    {
      "cell_type": "markdown",
      "metadata": {
        "id": "p5i3tFYw0k8V"
      },
      "source": [
        "\n",
        "\n",
        "---\n",
        "\n"
      ]
    },
    {
      "cell_type": "markdown",
      "metadata": {
        "id": "6yqmD-PBwgVK"
      },
      "source": [
        "# 랜덤함수 사용하기 :: rand(), randint()"
      ]
    },
    {
      "cell_type": "code",
      "metadata": {
        "id": "isy93jJntKvB",
        "outputId": "ce79fe9f-ef78-44fe-ade1-e0b817ede853",
        "colab": {
          "base_uri": "https://localhost:8080/"
        }
      },
      "source": [
        "# 랜덤함수는 0~1 사이의 실수 값이 나온다.\n",
        "a = np.random.rand(5)\n",
        "print(a)\n",
        "print(type(a))\n",
        "\n",
        "# b = np.random.randint? :: 함수 정의를 알아볼 때 사용\n",
        "b = np.random.randint(1, 10, 5) # 중복가능, 1~9까지의 정수 랜덤 ndarray\n",
        "print(b)\n",
        "print(type(b))\n",
        "\n",
        "\n",
        "c = np.random.randn(10) # 가우시안 표준분포 값을 뽑아낼 때 사용\n",
        "print(c)\n",
        "print(type(c))"
      ],
      "execution_count": null,
      "outputs": [
        {
          "output_type": "stream",
          "text": [
            "[0.92473714 0.92198735 0.5205198  0.91636099 0.98726446]\n",
            "<class 'numpy.ndarray'>\n",
            "[7 7 3 3 3]\n",
            "<class 'numpy.ndarray'>\n",
            "[ 1.66341932 -0.31479724 -0.62250223  2.20839447 -0.0252811   2.07205108\n",
            " -0.30696916 -0.0628945   1.05445901 -0.87933661]\n",
            "<class 'numpy.ndarray'>\n"
          ],
          "name": "stdout"
        }
      ]
    },
    {
      "cell_type": "markdown",
      "metadata": {
        "id": "k6etqszZwOIR"
      },
      "source": [
        "<정리> \n",
        "ndarray 만드는 가장 쉬운 방법은\n",
        "array()함수를 사용하거나, rand() 함수를 사용하면 된다."
      ]
    },
    {
      "cell_type": "markdown",
      "metadata": {
        "id": "6yQ2pQvG0iYe"
      },
      "source": [
        "\n",
        "\n",
        "---\n",
        "\n"
      ]
    },
    {
      "cell_type": "markdown",
      "metadata": {
        "id": "3EQOdFMxwjYe"
      },
      "source": [
        "# Numpy 초기화"
      ]
    },
    {
      "cell_type": "markdown",
      "metadata": {
        "id": "zVpFDlZnwowR"
      },
      "source": [
        "3-9)\n",
        "\n",
        "\n",
        "zeros(), ones(), arange() 함수를 이용해서 배열 생성과 동시에 특정한 값으로 초기화 한다.\n",
        "\n",
        "이는 연산이 가능한데, 다시 말하자면 특정값으로 초기화를 할 수 있음을 의미한다."
      ]
    },
    {
      "cell_type": "code",
      "metadata": {
        "id": "LRd6ViyzrnjK",
        "outputId": "c84d4521-d7bc-43df-e8a2-db215f3713b3",
        "colab": {
          "base_uri": "https://localhost:8080/"
        }
      },
      "source": [
        "# 1. 0으로 채워진 ndarray가 하나 만들어짐(실수)\n",
        "az = np.zeros(10)\n",
        "print(az)\n",
        "\n",
        "# 2. 1값으로 채워진 nd배열을 생성(실수)\n",
        "ao = np.ones(10)\n",
        "print(ao)\n",
        "\n",
        "#3. 2값으로 채워진 nd배열을 생성(실수)\n",
        "at = np.ones(10)+1\n",
        "print(at)\n",
        "\n",
        "#4.3 by 3 단위의 배열 생성(2차원 항등배열(?))\n",
        "ae = np.eye(3)\n",
        "print(ae)\n",
        "\n",
        "ae1 = np.eye(5)\n",
        "print(ae1)\n",
        "\n",
        "#5. arange()\n",
        "print(np.arange(3))\n",
        "print(np.arange(3,7))\n",
        "print(np.arange(3,7,2))"
      ],
      "execution_count": null,
      "outputs": [
        {
          "output_type": "stream",
          "text": [
            "[0. 0. 0. 0. 0. 0. 0. 0. 0. 0.]\n",
            "[1. 1. 1. 1. 1. 1. 1. 1. 1. 1.]\n",
            "[2. 2. 2. 2. 2. 2. 2. 2. 2. 2.]\n",
            "[[1. 0. 0.]\n",
            " [0. 1. 0.]\n",
            " [0. 0. 1.]]\n",
            "[[1. 0. 0. 0. 0.]\n",
            " [0. 1. 0. 0. 0.]\n",
            " [0. 0. 1. 0. 0.]\n",
            " [0. 0. 0. 1. 0.]\n",
            " [0. 0. 0. 0. 1.]]\n",
            "[0 1 2]\n",
            "[3 4 5 6]\n",
            "[3 5]\n"
          ],
          "name": "stdout"
        }
      ]
    },
    {
      "cell_type": "markdown",
      "metadata": {
        "id": "Q2ptWCshyrb0"
      },
      "source": [
        "1차원과 2차원을 구분할 줄 알아야 한다.\n",
        "\n",
        "대괄호 한개 (1차원) vector 구조라고 하며\n",
        "\n",
        "대괄호 두개 (2차원) 구조를 pandas 구조라고 한다."
      ]
    },
    {
      "cell_type": "markdown",
      "metadata": {
        "id": "VV7APHUD0f1k"
      },
      "source": [
        "\n",
        "\n",
        "---\n",
        "\n"
      ]
    },
    {
      "cell_type": "markdown",
      "metadata": {
        "id": "MI_Um6tQzcVa"
      },
      "source": [
        "# 눈에 보이는 List와 Numpy 배열의 차이점"
      ]
    },
    {
      "cell_type": "markdown",
      "metadata": {
        "id": "MF3dc2Id0P3Q"
      },
      "source": [
        "<정리>\n",
        "리스트는 서로다른 자료구조를 가지는 원소 가능\n",
        "반면에 np배열은 하나의 자료형만 저장이 가능하다."
      ]
    },
    {
      "cell_type": "code",
      "metadata": {
        "id": "EyyFGZUGzyg3",
        "outputId": "cd3820c2-16bf-4430-9a7a-cfb5b873cffa",
        "colab": {
          "base_uri": "https://localhost:8080/"
        }
      },
      "source": [
        "L = [1,2,3,'4',5,6]\n",
        "print(L)\n",
        "\n",
        "nArr = np.array(L)\n",
        "print(nArr)\n",
        "\n",
        "# nArr2 = np.array([11,22,33], dtype='float') :: 아래와 같은 표현\n",
        "nArr2 = np.array([11,22,33], dtype=np.float64)\n",
        "print(nArr2)"
      ],
      "execution_count": null,
      "outputs": [
        {
          "output_type": "stream",
          "text": [
            "[1, 2, 3, '4', 5, 6]\n",
            "['1' '2' '3' '4' '5' '6']\n",
            "[11. 22. 33.]\n"
          ],
          "name": "stdout"
        }
      ]
    },
    {
      "cell_type": "markdown",
      "metadata": {
        "id": "xT1siQUz1KXn"
      },
      "source": [
        "<리스트와 넘파이배열의 차이점을 정리하자면>\n",
        "\n",
        "1. 메모리 효율성\n",
        "\n",
        "2. 같은 자리만 가지는 것이 차이점임 (메모리 효율과 관련)"
      ]
    }
  ]
}
