{
  "nbformat": 4,
  "nbformat_minor": 0,
  "metadata": {
    "colab": {
      "name": "day01_Numpy2_indexing_slicing.ipynb",
      "provenance": [],
      "collapsed_sections": [],
      "mount_file_id": "1wsFVm1WibmqZ3MrAGcwe9LQiedr_W4rR",
      "authorship_tag": "ABX9TyOMaRJk3cFYjQgtL93nDoGq"
    },
    "kernelspec": {
      "name": "python3",
      "display_name": "Python 3"
    }
  },
  "cells": [
    {
      "cell_type": "code",
      "metadata": {
        "id": "0lxog1TI1wS0"
      },
      "source": [
        "import numpy as np"
      ],
      "execution_count": null,
      "outputs": []
    },
    {
      "cell_type": "markdown",
      "metadata": {
        "id": "f1qylaQq2lbW"
      },
      "source": [
        "# Numpy 알아보기"
      ]
    },
    {
      "cell_type": "markdown",
      "metadata": {
        "id": "EWYaNS_i258R"
      },
      "source": [
        "1. 특정 자료형을 명시적으로 지정함 : dtype ='lnt'|np.int32\n",
        "2. arr1 배열이 몇행 몇열? :: shape\n",
        "3. shape :: 몇행 몇열 // size :: 원소의 갯수 "
      ]
    },
    {
      "cell_type": "code",
      "metadata": {
        "id": "f_GSXUpI2U5n",
        "outputId": "75b7e1ec-baec-4f02-fccf-775e8b4b2309",
        "colab": {
          "base_uri": "https://localhost:8080/"
        }
      },
      "source": [
        "arr1 = np.array([[1.0, 2, 3], [4,5,6]], dtype=np.int32)\n",
        "\n",
        "# 함수 사용\n",
        "print(arr1)\n",
        "print(type(arr1))\n",
        "print(np.ndim(arr1))\n",
        "print(np.shape(arr1))\n",
        "print(np.size(arr1))"
      ],
      "execution_count": null,
      "outputs": [
        {
          "output_type": "stream",
          "text": [
            "[[1 2 3]\n",
            " [4 5 6]]\n",
            "<class 'numpy.ndarray'>\n",
            "2\n",
            "(2, 3)\n",
            "6\n"
          ],
          "name": "stdout"
        }
      ]
    },
    {
      "cell_type": "code",
      "metadata": {
        "id": "IqNiEBtc3eok",
        "outputId": "d6548593-4a68-475b-b8c1-57a6ae61faf8",
        "colab": {
          "base_uri": "https://localhost:8080/"
        }
      },
      "source": [
        "# 필드 사용\n",
        "print(arr1.ndim)\n",
        "print(arr1.shape)\n",
        "print(arr1.size)\n",
        "print(arr1.dtype)"
      ],
      "execution_count": null,
      "outputs": [
        {
          "output_type": "stream",
          "text": [
            "2\n",
            "(2, 3)\n",
            "6\n",
            "int32\n"
          ],
          "name": "stdout"
        }
      ]
    },
    {
      "cell_type": "markdown",
      "metadata": {
        "id": "tLrMuzpe30TY"
      },
      "source": [
        "<함수와 필드를 똑같이 사용했지만 다른 한가지>\n",
        "\n",
        "타입함수와 dtype 필드는 완전히 다른것임\n",
        "\n",
        "dtype은 요소요소가 나오는 것이고,\n",
        "타입 함수는 ndarray 로 나온다."
      ]
    },
    {
      "cell_type": "markdown",
      "metadata": {
        "id": "UoLqUZ7z4gYp"
      },
      "source": [
        "\n",
        "\n",
        "---\n",
        "\n"
      ]
    },
    {
      "cell_type": "markdown",
      "metadata": {
        "id": "z3-Te-Rd4Xrh"
      },
      "source": [
        "# .astype() 함수 :: 타입을 한번에 바꿔주는 함수"
      ]
    },
    {
      "cell_type": "markdown",
      "metadata": {
        "id": "Y8Yg59to4Ih1"
      },
      "source": [
        "arr1 배열의 원소값 타입을 한번에 바꾸는 함수로 가장 많이 쓰이는 함수\n"
      ]
    },
    {
      "cell_type": "code",
      "metadata": {
        "id": "AkOK0R-z3uzf",
        "outputId": "519430e1-1b5e-4d99-da49-570dabc1fc36",
        "colab": {
          "base_uri": "https://localhost:8080/"
        }
      },
      "source": [
        "arr1_1=arr1.astype(np.float64)\n",
        "print(arr1_1)"
      ],
      "execution_count": null,
      "outputs": [
        {
          "output_type": "stream",
          "text": [
            "[[1. 2. 3.]\n",
            " [4. 5. 6.]]\n"
          ],
          "name": "stdout"
        }
      ]
    },
    {
      "cell_type": "markdown",
      "metadata": {
        "id": "NtKXz4Kq43c1"
      },
      "source": [
        "\n",
        "\n",
        "---\n",
        "\n"
      ]
    },
    {
      "cell_type": "markdown",
      "metadata": {
        "id": "ZV605e_14tBd"
      },
      "source": [
        "# .reshape() 함수 :: 함수를 새로 정렬해주는 함수"
      ]
    },
    {
      "cell_type": "code",
      "metadata": {
        "id": "dop7KvWs4WTK",
        "outputId": "d9f1c24b-3a14-4169-93f6-7c5ca50e8efe",
        "colab": {
          "base_uri": "https://localhost:8080/"
        }
      },
      "source": [
        "arr2 = np.arange(32).reshape(8,4)\n",
        "print(arr2)"
      ],
      "execution_count": null,
      "outputs": [
        {
          "output_type": "stream",
          "text": [
            "[[ 0  1  2  3]\n",
            " [ 4  5  6  7]\n",
            " [ 8  9 10 11]\n",
            " [12 13 14 15]\n",
            " [16 17 18 19]\n",
            " [20 21 22 23]\n",
            " [24 25 26 27]\n",
            " [28 29 30 31]]\n"
          ],
          "name": "stdout"
        }
      ]
    },
    {
      "cell_type": "markdown",
      "metadata": {
        "id": "etaNIC3iBeii"
      },
      "source": [
        "\n",
        "\n",
        "---\n",
        "\n"
      ]
    },
    {
      "cell_type": "markdown",
      "metadata": {
        "id": "6loty8tW7zt3"
      },
      "source": [
        "# 인덱싱과 슬라이싱"
      ]
    },
    {
      "cell_type": "markdown",
      "metadata": {
        "id": "HLwQaPdp8hY4"
      },
      "source": [
        "1. 인덱싱(콜론(:)을 사용하지 않음)\n",
        "- 음수가 붙으면 뒤에서 n번째로 이해\n",
        "- 뒤에 수가 없으면 끝까지 [1:]\n",
        "- 하나만 콕 찝는 것\n",
        "\n",
        "2. 슬라이싱(콜론(:)이 들어감)\n",
        "- 여기~저기까지 훑는 거:: 범위:: 구간"
      ]
    },
    {
      "cell_type": "code",
      "metadata": {
        "id": "C8Hp4nfX4jzJ",
        "outputId": "de6fac32-f0b6-4245-897b-99ee353df1de",
        "colab": {
          "base_uri": "https://localhost:8080/"
        }
      },
      "source": [
        "narray = np.arange(5)\n",
        "narray"
      ],
      "execution_count": null,
      "outputs": [
        {
          "output_type": "execute_result",
          "data": {
            "text/plain": [
              "array([0, 1, 2, 3, 4])"
            ]
          },
          "metadata": {
            "tags": []
          },
          "execution_count": 3
        }
      ]
    },
    {
      "cell_type": "code",
      "metadata": {
        "id": "ynapC1DZ8FnL",
        "outputId": "9debf6b4-e0d5-457b-fc8a-b0fa8196098a",
        "colab": {
          "base_uri": "https://localhost:8080/"
        }
      },
      "source": [
        "print(narray[1],narray[-1])\n",
        "print(narray[1:])\n",
        "print(narray[:])\n",
        "print(narray[0:5]) # 이렇게는 잘 안쓰고 위 처럼 사용\n",
        "print(narray[2:4])"
      ],
      "execution_count": null,
      "outputs": [
        {
          "output_type": "stream",
          "text": [
            "1 4\n",
            "[1 2 3 4]\n",
            "[0 1 2 3 4]\n",
            "[0 1 2 3 4]\n",
            "[2 3]\n"
          ],
          "name": "stdout"
        }
      ]
    },
    {
      "cell_type": "code",
      "metadata": {
        "id": "7e_UuCH18Tmn",
        "outputId": "2d5a85a7-5d48-4d9b-d033-fb39bb108a34",
        "colab": {
          "base_uri": "https://localhost:8080/"
        }
      },
      "source": [
        "np.random.seed(0) # 랜덤하게 나오는 값이 전부 똑같이 나옴 (0으로 줬기 때문에.)\n",
        "narray2 = np.random.randint(10,20,16).reshape(4,4)\n",
        "print(narray2)\n",
        "narray2"
      ],
      "execution_count": null,
      "outputs": [
        {
          "output_type": "stream",
          "text": [
            "[[15 10 13 13]\n",
            " [17 19 13 15]\n",
            " [12 14 17 16]\n",
            " [18 18 11 16]]\n"
          ],
          "name": "stdout"
        },
        {
          "output_type": "execute_result",
          "data": {
            "text/plain": [
              "array([[15, 10, 13, 13],\n",
              "       [17, 19, 13, 15],\n",
              "       [12, 14, 17, 16],\n",
              "       [18, 18, 11, 16]])"
            ]
          },
          "metadata": {
            "tags": []
          },
          "execution_count": 4
        }
      ]
    },
    {
      "cell_type": "markdown",
      "metadata": {
        "id": "6cLuc9WYBbdC"
      },
      "source": [
        "\n",
        "\n",
        "---\n",
        "\n"
      ]
    },
    {
      "cell_type": "markdown",
      "metadata": {
        "id": "TA2NcGpn94YP"
      },
      "source": [
        "# 문제 (1~4)"
      ]
    },
    {
      "cell_type": "markdown",
      "metadata": {
        "id": "N9v5yNFI97OJ"
      },
      "source": [
        "1. narray2 중에서 첫번째 줄의 13을 가져오려면? 인덱싱과 슬라이싱을 어떻게 쓸까?\n",
        "- 슬라이싱은 사용하지 않음(인덱싱만 사용)"
      ]
    },
    {
      "cell_type": "code",
      "metadata": {
        "id": "O9jDFQSo-ANO",
        "outputId": "cee9faa8-ec7b-4de3-d01b-36afdef22876",
        "colab": {
          "base_uri": "https://localhost:8080/"
        }
      },
      "source": [
        "print(narray2[0,2]) # [행, 렬]\n",
        "print(narray2[0][2]) # [행][렬] "
      ],
      "execution_count": null,
      "outputs": [
        {
          "output_type": "stream",
          "text": [
            "13\n",
            "13\n"
          ],
          "name": "stdout"
        }
      ]
    },
    {
      "cell_type": "markdown",
      "metadata": {
        "id": "dI5R3jlg-804"
      },
      "source": [
        "2. narray2 중에서 두번째 줄을 가져오려면? 슬라이싱을 사용해야한다."
      ]
    },
    {
      "cell_type": "code",
      "metadata": {
        "id": "Vvy_Pbxh-Iad",
        "outputId": "2aa8cc70-c34a-42f8-d36c-22566387ce3a",
        "colab": {
          "base_uri": "https://localhost:8080/"
        }
      },
      "source": [
        "print(narray2[1,0:4])\n",
        "print(narray2[1,0:])\n",
        "print(narray2[1,:])\n",
        "print(narray2[1:2,:]) # 얘만 2차원으로 표현된다.\n",
        "print(narray2[1][0:4])\n",
        "print(narray2[1][0:])\n",
        "print(narray2[1][:])\n",
        "print(narray2[1:2][:]) # 얘만 2차원으로 표현된다."
      ],
      "execution_count": null,
      "outputs": [
        {
          "output_type": "stream",
          "text": [
            "[17 19 13 15]\n",
            "[17 19 13 15]\n",
            "[17 19 13 15]\n",
            "[[17 19 13 15]]\n",
            "[17 19 13 15]\n",
            "[17 19 13 15]\n",
            "[17 19 13 15]\n",
            "[[17 19 13 15]]\n"
          ],
          "name": "stdout"
        }
      ]
    },
    {
      "cell_type": "markdown",
      "metadata": {
        "id": "kEdgGaoz_-wU"
      },
      "source": [
        "3. 전체 행에 대해서, 4번째 열만 가져오려면?"
      ]
    },
    {
      "cell_type": "code",
      "metadata": {
        "id": "dNN_FR7H_Pkj",
        "outputId": "45faffd2-0eab-4db8-fa96-0f73f8f1d67e",
        "colab": {
          "base_uri": "https://localhost:8080/"
        }
      },
      "source": [
        "print(narray2[0:4, 3:4])\n",
        "print(narray2[:, 3:])\n",
        "print(narray2[0:4, 3])\n",
        "print(narray2[:, 3])"
      ],
      "execution_count": null,
      "outputs": [
        {
          "output_type": "stream",
          "text": [
            "[[13]\n",
            " [15]\n",
            " [16]\n",
            " [16]]\n",
            "[[13]\n",
            " [15]\n",
            " [16]\n",
            " [16]]\n",
            "[13 15 16 16]\n",
            "[13 15 16 16]\n"
          ],
          "name": "stdout"
        }
      ]
    },
    {
      "cell_type": "markdown",
      "metadata": {
        "id": "PbljNPaMAyzq"
      },
      "source": [
        "4. 전체 행에 대해서 1, 2 번째 열 값만 가져오려면? \n"
      ]
    },
    {
      "cell_type": "code",
      "metadata": {
        "id": "jqtWGbySA8q2",
        "outputId": "b1f7ea93-437e-423b-fc1e-78d5d5c697c2",
        "colab": {
          "base_uri": "https://localhost:8080/"
        }
      },
      "source": [
        "print(narray2[:, :2])\n",
        "print(narray2[:, :2])"
      ],
      "execution_count": null,
      "outputs": [
        {
          "output_type": "stream",
          "text": [
            "[[15 10]\n",
            " [17 19]\n",
            " [12 14]\n",
            " [18 18]]\n",
            "[[15 10]\n",
            " [17 19]\n",
            " [12 14]\n",
            " [18 18]]\n"
          ],
          "name": "stdout"
        }
      ]
    },
    {
      "cell_type": "markdown",
      "metadata": {
        "id": "7C8QLrbeBc3q"
      },
      "source": [
        "\n",
        "\n",
        "---\n",
        "\n"
      ]
    },
    {
      "cell_type": "markdown",
      "metadata": {
        "id": "3UoGaPJ2BVpp"
      },
      "source": [
        "# (난이도 상) 조건 슬라이싱"
      ]
    },
    {
      "cell_type": "markdown",
      "metadata": {
        "id": "-4LJh_eQCFnr"
      },
      "source": [
        "논리연산자를 이용해서, 조건 슬라이싱이 가능하다.\n",
        "\n"
      ]
    },
    {
      "cell_type": "code",
      "metadata": {
        "id": "aOzQ5ccLA98u",
        "outputId": "e2ab59e4-9788-4b5f-c54b-506a864659a8",
        "colab": {
          "base_uri": "https://localhost:8080/"
        }
      },
      "source": [
        "narray3=np.random.randn(4,4)\n",
        "narray3"
      ],
      "execution_count": null,
      "outputs": [
        {
          "output_type": "execute_result",
          "data": {
            "text/plain": [
              "array([[-0.06491034, -0.96898025,  0.59124281, -0.7827755 ],\n",
              "       [-0.44423283, -0.34518616, -0.88180055, -0.44265324],\n",
              "       [-0.5409163 , -1.32322737, -0.11279892,  0.90734594],\n",
              "       [ 0.81526991,  0.22909795, -1.02617878,  0.47752547]])"
            ]
          },
          "metadata": {
            "tags": []
          },
          "execution_count": 47
        }
      ]
    },
    {
      "cell_type": "code",
      "metadata": {
        "id": "7LteVf7JBmyw",
        "outputId": "b9e988e0-1b9b-4657-810b-281398c89545",
        "colab": {
          "base_uri": "https://localhost:8080/"
        }
      },
      "source": [
        "narray3[narray3>0]\n",
        "narray3[narray3<0]"
      ],
      "execution_count": null,
      "outputs": [
        {
          "output_type": "execute_result",
          "data": {
            "text/plain": [
              "array([-0.06491034, -0.96898025, -0.7827755 , -0.44423283, -0.34518616,\n",
              "       -0.88180055, -0.44265324, -0.5409163 , -1.32322737, -0.11279892,\n",
              "       -1.02617878])"
            ]
          },
          "metadata": {
            "tags": []
          },
          "execution_count": 49
        }
      ]
    },
    {
      "cell_type": "code",
      "metadata": {
        "id": "ngiOqIlNCTnv",
        "outputId": "3dd665ce-7889-40cf-c794-0e6b6362b4cf",
        "colab": {
          "base_uri": "https://localhost:8080/"
        }
      },
      "source": [
        "# 논리연산자를 사용해서 음수에 해당하는 값들은 전부다 0으로 초기화 세팅\n",
        "# 이럴경우 원본이 함께 바뀌는 것을 명심!! ndarray 니까..\n",
        "narray3[narray3<0] = 0\n",
        "narray3"
      ],
      "execution_count": null,
      "outputs": [
        {
          "output_type": "execute_result",
          "data": {
            "text/plain": [
              "array([[0.        , 0.        , 0.59124281, 0.        ],\n",
              "       [0.        , 0.        , 0.        , 0.        ],\n",
              "       [0.        , 0.        , 0.        , 0.90734594],\n",
              "       [0.81526991, 0.22909795, 0.        , 0.47752547]])"
            ]
          },
          "metadata": {
            "tags": []
          },
          "execution_count": 50
        }
      ]
    },
    {
      "cell_type": "markdown",
      "metadata": {
        "id": "XeQgDHEPDHlJ"
      },
      "source": [
        "## 삼항 연산자"
      ]
    },
    {
      "cell_type": "markdown",
      "metadata": {
        "id": "WfH8c8EcCp9X"
      },
      "source": [
        "논리연산자와 같이 where 함수도 있음 :: 삼항 연산자\n"
      ]
    },
    {
      "cell_type": "code",
      "metadata": {
        "id": "5Szy7z-wCtXS",
        "outputId": "a85685e8-a74d-4736-9160-e4efe79c75fe",
        "colab": {
          "base_uri": "https://localhost:8080/"
        }
      },
      "source": [
        "narray3_1 = np.where(narray3>0, narray3, -1)\n",
        "narray3_1"
      ],
      "execution_count": null,
      "outputs": [
        {
          "output_type": "execute_result",
          "data": {
            "text/plain": [
              "array([[-1.        , -1.        ,  0.59124281, -1.        ],\n",
              "       [-1.        , -1.        , -1.        , -1.        ],\n",
              "       [-1.        , -1.        , -1.        ,  0.90734594],\n",
              "       [ 0.81526991,  0.22909795, -1.        ,  0.47752547]])"
            ]
          },
          "metadata": {
            "tags": []
          },
          "execution_count": 52
        }
      ]
    },
    {
      "cell_type": "code",
      "metadata": {
        "id": "Qr2B6MgqDQVc",
        "outputId": "38706228-f41f-416b-892b-44d58f46cd4f",
        "colab": {
          "base_uri": "https://localhost:8080/"
        }
      },
      "source": [
        "# 중요!!\n",
        "a = np.array([[1,2],[3,4],[5,6]])\n",
        "a\n",
        "bool_idx=(a>2)\n",
        "print(bool_idx)\n",
        "print(a[bool_idx])"
      ],
      "execution_count": null,
      "outputs": [
        {
          "output_type": "stream",
          "text": [
            "[[False False]\n",
            " [ True  True]\n",
            " [ True  True]]\n",
            "[3 4 5 6]\n"
          ],
          "name": "stdout"
        }
      ]
    },
    {
      "cell_type": "markdown",
      "metadata": {
        "id": "wFNJKettCGyj"
      },
      "source": [
        "\n",
        "\n",
        "---\n",
        "\n"
      ]
    },
    {
      "cell_type": "markdown",
      "metadata": {
        "id": "1GCV0GNfG7cW"
      },
      "source": [
        "# 통계함수"
      ]
    },
    {
      "cell_type": "code",
      "metadata": {
        "id": "hnYT1aoRJeMM",
        "outputId": "531e6b22-8eb1-4449-fb87-f2a3df203314",
        "colab": {
          "base_uri": "https://localhost:8080/"
        }
      },
      "source": [
        "narray2"
      ],
      "execution_count": null,
      "outputs": [
        {
          "output_type": "execute_result",
          "data": {
            "text/plain": [
              "array([[15, 10, 13, 13],\n",
              "       [17, 19, 13, 15],\n",
              "       [12, 14, 17, 16],\n",
              "       [18, 18, 11, 16]])"
            ]
          },
          "metadata": {
            "tags": []
          },
          "execution_count": 66
        }
      ]
    },
    {
      "cell_type": "code",
      "metadata": {
        "id": "DQuYzbboG983",
        "outputId": "06c40656-38d1-4838-c632-73ceff4a4de6",
        "colab": {
          "base_uri": "https://localhost:8080/"
        }
      },
      "source": [
        "print(np.sum(narray2))\n",
        "print(np.sum(narray2, axis=0)) # 0 은 모든 행을 더한 것\n",
        "print(np.sum(narray2, axis=1)) # 1 은 모든 열을 더한 것"
      ],
      "execution_count": null,
      "outputs": [
        {
          "output_type": "stream",
          "text": [
            "237\n",
            "[62 61 54 60]\n",
            "[51 64 59 63]\n"
          ],
          "name": "stdout"
        }
      ]
    },
    {
      "cell_type": "code",
      "metadata": {
        "id": "R_5UfSFcHAuu",
        "outputId": "602d2c30-1770-490f-d563-606466b03c16",
        "colab": {
          "base_uri": "https://localhost:8080/"
        }
      },
      "source": [
        "np.cumsum(narray2, axis=0) # 누적된 합을 계속 더함 "
      ],
      "execution_count": null,
      "outputs": [
        {
          "output_type": "execute_result",
          "data": {
            "text/plain": [
              "array([[15, 10, 13, 13],\n",
              "       [32, 29, 26, 28],\n",
              "       [44, 43, 43, 44],\n",
              "       [62, 61, 54, 60]])"
            ]
          },
          "metadata": {
            "tags": []
          },
          "execution_count": 63
        }
      ]
    },
    {
      "cell_type": "code",
      "metadata": {
        "id": "hHR_3jauHgIg",
        "outputId": "9da839fa-a71c-420a-bbee-301c44a35b14",
        "colab": {
          "base_uri": "https://localhost:8080/"
        }
      },
      "source": [
        "np.argmax(narray2, axis=0) # 정말 중요함니다요\n",
        "# 모든 행들을 다 검색... 그 중에서 가장 큰 값의 인덱스를 리턴"
      ],
      "execution_count": null,
      "outputs": [
        {
          "output_type": "execute_result",
          "data": {
            "text/plain": [
              "array([3, 1, 2, 2])"
            ]
          },
          "metadata": {
            "tags": []
          },
          "execution_count": 65
        }
      ]
    },
    {
      "cell_type": "code",
      "metadata": {
        "id": "rMMeaoDgHpdW"
      },
      "source": [
        ""
      ],
      "execution_count": null,
      "outputs": []
    }
  ]
}