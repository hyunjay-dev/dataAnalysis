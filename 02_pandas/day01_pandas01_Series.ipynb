{
  "nbformat": 4,
  "nbformat_minor": 0,
  "metadata": {
    "colab": {
      "name": "day01_pandas01_Series.ipynb",
      "provenance": [],
      "collapsed_sections": [],
      "mount_file_id": "100tPA-tmxLYTW60AxQOOk37_bld2VdCw",
      "authorship_tag": "ABX9TyMKZ+lX1SajErpMtrXy+UOL"
    },
    "kernelspec": {
      "name": "python3",
      "display_name": "Python 3"
    }
  },
  "cells": [
    {
      "cell_type": "markdown",
      "metadata": {
        "id": "opMVw6lMjtMA"
      },
      "source": [
        "# Pandas"
      ]
    },
    {
      "cell_type": "markdown",
      "metadata": {
        "id": "RAk46dxpjxMA"
      },
      "source": [
        "Pandas 는 Panel Datas 의 약자로, 파이썬을 이용한 데이터 분석에서 가장 많이 사용되는 라이브러리이다.\n",
        "\n",
        "Numpy기반으로 만들어 졌으며 데이터 분석을 위한 효율적인 자료구조를 제공한다. \n",
        "\n"
      ]
    },
    {
      "cell_type": "markdown",
      "metadata": {
        "id": "PiNTZnHskVQy"
      },
      "source": [
        "## Pandas의 자료구조\n",
        "\n",
        "1. Series :: 1차원 배열형태의 데이타 구조(벡터) :: ndarray\n",
        "- 이 안에 데이터 타입은 모두 numpy 배열이고, 서로 다른 데이터 타입은 올 수 없고, ndarray는 ..\n",
        "\n",
        "2. DataFrame :: 2차원 배열형태의 데이타 구조(매트릭스) = 엑셀구조, DB 구조와 동일하다 => 때문에 그렇게 불러와서 사용할 수 있음\n",
        "- 이 안에는 Series 가 있다. (세로방향으로, 같은 데이터 타입). 다시 말해 Series들의 집합은 DataFrame이라고 할 수 있다."
      ]
    },
    {
      "cell_type": "markdown",
      "metadata": {
        "id": "nA0nV5OmlgWu"
      },
      "source": [
        "### Series\n"
      ]
    },
    {
      "cell_type": "code",
      "metadata": {
        "id": "yfV0zMtFloJX"
      },
      "source": [
        "import numpy as np\n",
        "import pandas as pd\n",
        "from pandas import Series, DataFrame"
      ],
      "execution_count": null,
      "outputs": []
    },
    {
      "cell_type": "markdown",
      "metadata": {
        "id": "1eTVqYFel_u9"
      },
      "source": [
        "#### 1. 시리즈 생성, 구조"
      ]
    },
    {
      "cell_type": "markdown",
      "metadata": {
        "id": "B62n4jVwmsGF"
      },
      "source": [
        "(구조) 인덱스를 명시하지 않으면, 기본적으로 0~N까지의 정수로 지정된다."
      ]
    },
    {
      "cell_type": "code",
      "metadata": {
        "id": "S5WQIfn5l8MP",
        "outputId": "3424ca68-92e9-443e-9ef6-c15e3d582075",
        "colab": {
          "base_uri": "https://localhost:8080/"
        }
      },
      "source": [
        "ser1 = Series(np.random.randint(10, 20, 5), index=list('abcde'))\n",
        "ser1\n",
        "print(ser1.index)\n",
        "print(ser1.values) \n",
        "# 값만 나오는데, 순서대로 나오지 않는 이유는, ndarray로 튜플형태이기 때문에 콤마(,)가 없기때문에 그렇다.\n",
        "print(ser1.dtype)"
      ],
      "execution_count": null,
      "outputs": [
        {
          "output_type": "stream",
          "text": [
            "Index(['a', 'b', 'c', 'd', 'e'], dtype='object')\n",
            "[16 14 13 16 12]\n",
            "int64\n"
          ],
          "name": "stdout"
        }
      ]
    },
    {
      "cell_type": "markdown",
      "metadata": {
        "id": "165CtTLJnOqh"
      },
      "source": [
        "#### 2. 시리즈 값 조회"
      ]
    },
    {
      "cell_type": "markdown",
      "metadata": {
        "id": "02sINybSnbfs"
      },
      "source": [
        "슬라이싱으로 값을 조회할 때 2가지 방법(모든 조회의 기본)\n",
        "\n",
        "1) 라벨 사용 :: 시리즈는 인덱스를 라벨로 사용함 ::\n",
        "마지막값이 포함\n",
        "\n",
        "2) 숫자 사용 :: 마지막 값 포함 안함 "
      ]
    },
    {
      "cell_type": "code",
      "metadata": {
        "id": "FxqhAjMxmnLs",
        "outputId": "c7a1d4de-4078-4add-cb8d-49ba6328eff0",
        "colab": {
          "base_uri": "https://localhost:8080/"
        }
      },
      "source": [
        "ser1"
      ],
      "execution_count": null,
      "outputs": [
        {
          "output_type": "execute_result",
          "data": {
            "text/plain": [
              "a    16\n",
              "b    14\n",
              "c    13\n",
              "d    16\n",
              "e    12\n",
              "dtype: int64"
            ]
          },
          "metadata": {
            "tags": []
          },
          "execution_count": 9
        }
      ]
    },
    {
      "cell_type": "code",
      "metadata": {
        "id": "wNDJRXvBnnG1",
        "outputId": "d6996a83-653f-466c-c752-57930cd31652",
        "colab": {
          "base_uri": "https://localhost:8080/"
        }
      },
      "source": [
        "# 2) 숫자 사용\n",
        "print(ser1['c'])\n",
        "print(ser1[1:4])"
      ],
      "execution_count": null,
      "outputs": [
        {
          "output_type": "stream",
          "text": [
            "13\n",
            "b    14\n",
            "c    13\n",
            "d    16\n",
            "dtype: int64\n"
          ],
          "name": "stdout"
        }
      ]
    },
    {
      "cell_type": "code",
      "metadata": {
        "id": "5fmdxr5Hn3XJ",
        "outputId": "3613aa12-e5ef-4234-d9ea-c608bc1da826",
        "colab": {
          "base_uri": "https://localhost:8080/"
        }
      },
      "source": [
        "# 1) 라벨 사용\n",
        "print(ser1['b':'d'])"
      ],
      "execution_count": null,
      "outputs": [
        {
          "output_type": "stream",
          "text": [
            "b    14\n",
            "c    13\n",
            "d    16\n",
            "dtype: int64\n"
          ],
          "name": "stdout"
        }
      ]
    },
    {
      "cell_type": "markdown",
      "metadata": {
        "id": "76hopvo6ofQS"
      },
      "source": [
        "응용해서 시리즈 값 조회하기"
      ]
    },
    {
      "cell_type": "code",
      "metadata": {
        "id": "_08exPsUoEz3",
        "outputId": "2cab9f17-bc1b-4b79-9003-4412cf80c6b9",
        "colab": {
          "base_uri": "https://localhost:8080/"
        }
      },
      "source": [
        "# 2개씩 건너 뛰어서 슬라이싱\n",
        "print(ser1['a':'e':2])\n",
        "print(ser1[::2])"
      ],
      "execution_count": null,
      "outputs": [
        {
          "output_type": "stream",
          "text": [
            "a    16\n",
            "c    13\n",
            "e    12\n",
            "dtype: int64\n",
            "a    16\n",
            "c    13\n",
            "e    12\n",
            "dtype: int64\n"
          ],
          "name": "stdout"
        }
      ]
    },
    {
      "cell_type": "code",
      "metadata": {
        "id": "hdgr8h0Joqne",
        "outputId": "a2adbd8b-d5ff-4202-b251-0eed0a56378e",
        "colab": {
          "base_uri": "https://localhost:8080/"
        }
      },
      "source": [
        "ser1_1 =ser1[::2]\n",
        "print(ser1_1)\n",
        "\n",
        "ser1_2=ser1[:2]\n",
        "print(ser1_2)"
      ],
      "execution_count": null,
      "outputs": [
        {
          "output_type": "stream",
          "text": [
            "a    16\n",
            "c    13\n",
            "e    12\n",
            "dtype: int64\n",
            "a    16\n",
            "b    14\n",
            "dtype: int64\n"
          ],
          "name": "stdout"
        }
      ]
    },
    {
      "cell_type": "markdown",
      "metadata": {
        "id": "w-_3CWC8pTIi"
      },
      "source": [
        "#### 시리즈 값 연산"
      ]
    },
    {
      "cell_type": "markdown",
      "metadata": {
        "id": "fv0xV_hGp7pk"
      },
      "source": [
        "연산시 인덱스가 없으면, 'NaN' 으로 채워진다."
      ]
    },
    {
      "cell_type": "code",
      "metadata": {
        "id": "tEbhjaENpFlq",
        "outputId": "7ac610e3-ea59-4a2f-ed74-0f9669133b4c",
        "colab": {
          "base_uri": "https://localhost:8080/"
        }
      },
      "source": [
        "# 연산적용이 되지 않는 값들은 누락데이터로 인식한다. (ser1_1에는 라벨이 없기때문에)\n",
        "serPlus = ser1 + ser1_1\n",
        "print(serPlus)"
      ],
      "execution_count": null,
      "outputs": [
        {
          "output_type": "stream",
          "text": [
            "a    32.0\n",
            "b     NaN\n",
            "c    26.0\n",
            "d     NaN\n",
            "e    24.0\n",
            "dtype: float64\n"
          ],
          "name": "stdout"
        }
      ]
    },
    {
      "cell_type": "markdown",
      "metadata": {
        "id": "gKB-YBaoqEHJ"
      },
      "source": [
        "#### 누락데이타 다루기 :: isnull(), notnull()"
      ]
    },
    {
      "cell_type": "code",
      "metadata": {
        "id": "UVg6DLOGph_W",
        "outputId": "e4aa8dc0-648d-4610-f22e-a5282473816f",
        "colab": {
          "base_uri": "https://localhost:8080/"
        }
      },
      "source": [
        "# isnull은 null이면 True.\n",
        "print(serPlus.isnull())\n",
        "print(serPlus.notnull())"
      ],
      "execution_count": null,
      "outputs": [
        {
          "output_type": "stream",
          "text": [
            "a    False\n",
            "b     True\n",
            "c    False\n",
            "d     True\n",
            "e    False\n",
            "dtype: bool\n",
            "a     True\n",
            "b    False\n",
            "c     True\n",
            "d    False\n",
            "e     True\n",
            "dtype: bool\n"
          ],
          "name": "stdout"
        }
      ]
    },
    {
      "cell_type": "code",
      "metadata": {
        "id": "a4Bnu6qCqT9l",
        "outputId": "43133e3a-12f9-4404-de1f-a3ca987d3164",
        "colab": {
          "base_uri": "https://localhost:8080/"
        }
      },
      "source": [
        "# isnlll\n",
        "print(serPlus.isnull().sum())\n",
        "print(serPlus[serPlus.notnull()])"
      ],
      "execution_count": null,
      "outputs": [
        {
          "output_type": "stream",
          "text": [
            "2\n",
            "a    32.0\n",
            "c    26.0\n",
            "e    24.0\n",
            "dtype: float64\n"
          ],
          "name": "stdout"
        }
      ]
    },
    {
      "cell_type": "code",
      "metadata": {
        "id": "eiBWCmDyqw7I"
      },
      "source": [
        ""
      ],
      "execution_count": null,
      "outputs": []
    }
  ]
}
